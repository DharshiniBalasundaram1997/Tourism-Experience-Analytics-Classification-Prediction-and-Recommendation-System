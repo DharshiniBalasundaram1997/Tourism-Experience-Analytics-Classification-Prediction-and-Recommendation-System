{
 "cells": [
  {
   "cell_type": "code",
   "execution_count": 1,
   "id": "07898975",
   "metadata": {},
   "outputs": [],
   "source": [
    "from sklearn.preprocessing import LabelEncoder, MinMaxScaler\n",
    "import pandas as pd\n",
    "import matplotlib.pyplot as plt\n",
    "import seaborn as sns\n",
    "import plotly.express as px"
   ]
  },
  {
   "cell_type": "code",
   "execution_count": 3,
   "id": "bd2408a0",
   "metadata": {},
   "outputs": [],
   "source": [
    "# Load preprocessed dataset\n",
    "Tourism_data = pd.read_csv(\"C:/Users/dhars/Downloads/Dhass/codeing/GUVI/2. MainBoot/4.Project_Code/Project4/Project4_Code/Tourism_Experince_Analytics/DataSets/PreProcessed_DataSet/Pre_Processed_DataSet.csv\")"
   ]
  },
  {
   "cell_type": "code",
   "execution_count": 4,
   "id": "97c916c5",
   "metadata": {},
   "outputs": [
    {
     "data": {
      "text/html": [
       "<div>\n",
       "<style scoped>\n",
       "    .dataframe tbody tr th:only-of-type {\n",
       "        vertical-align: middle;\n",
       "    }\n",
       "\n",
       "    .dataframe tbody tr th {\n",
       "        vertical-align: top;\n",
       "    }\n",
       "\n",
       "    .dataframe thead th {\n",
       "        text-align: right;\n",
       "    }\n",
       "</style>\n",
       "<table border=\"1\" class=\"dataframe\">\n",
       "  <thead>\n",
       "    <tr style=\"text-align: right;\">\n",
       "      <th></th>\n",
       "      <th>UserId</th>\n",
       "      <th>TransactionId</th>\n",
       "      <th>VisitYear</th>\n",
       "      <th>VisitMonth</th>\n",
       "      <th>Rating</th>\n",
       "      <th>VisitDate</th>\n",
       "      <th>VisitMode</th>\n",
       "      <th>Attraction</th>\n",
       "      <th>AttractionAddress</th>\n",
       "      <th>AttractionType</th>\n",
       "      <th>CityName</th>\n",
       "      <th>Country</th>\n",
       "      <th>Region</th>\n",
       "      <th>Continent</th>\n",
       "      <th>Average rating per user</th>\n",
       "      <th>Total visits by VisitMode per user</th>\n",
       "      <th>Average rating per attraction</th>\n",
       "      <th>Total visits per user</th>\n",
       "    </tr>\n",
       "  </thead>\n",
       "  <tbody>\n",
       "    <tr>\n",
       "      <th>0</th>\n",
       "      <td>70456</td>\n",
       "      <td>3</td>\n",
       "      <td>2022</td>\n",
       "      <td>10</td>\n",
       "      <td>1.00</td>\n",
       "      <td>2022-10-01</td>\n",
       "      <td>Couples</td>\n",
       "      <td>Sacred Monkey Forest Sanctuary</td>\n",
       "      <td>Jl. Monkey Forest, Ubud 80571 Indonesia</td>\n",
       "      <td>Nature &amp; Wildlife Areas</td>\n",
       "      <td>Kerala</td>\n",
       "      <td>India</td>\n",
       "      <td>South East Asia</td>\n",
       "      <td>Asia</td>\n",
       "      <td>1.000</td>\n",
       "      <td>1</td>\n",
       "      <td>0.663674</td>\n",
       "      <td>1</td>\n",
       "    </tr>\n",
       "    <tr>\n",
       "      <th>1</th>\n",
       "      <td>7567</td>\n",
       "      <td>8</td>\n",
       "      <td>2022</td>\n",
       "      <td>10</td>\n",
       "      <td>1.00</td>\n",
       "      <td>2022-10-01</td>\n",
       "      <td>Friends</td>\n",
       "      <td>Sacred Monkey Forest Sanctuary</td>\n",
       "      <td>Jl. Monkey Forest, Ubud 80571 Indonesia</td>\n",
       "      <td>Nature &amp; Wildlife Areas</td>\n",
       "      <td>Belleville</td>\n",
       "      <td>Canada</td>\n",
       "      <td>South America</td>\n",
       "      <td>America</td>\n",
       "      <td>1.000</td>\n",
       "      <td>1</td>\n",
       "      <td>0.663674</td>\n",
       "      <td>1</td>\n",
       "    </tr>\n",
       "    <tr>\n",
       "      <th>2</th>\n",
       "      <td>79069</td>\n",
       "      <td>9</td>\n",
       "      <td>2022</td>\n",
       "      <td>10</td>\n",
       "      <td>1.00</td>\n",
       "      <td>2022-10-01</td>\n",
       "      <td>Family</td>\n",
       "      <td>Sacred Monkey Forest Sanctuary</td>\n",
       "      <td>Jl. Monkey Forest, Ubud 80571 Indonesia</td>\n",
       "      <td>Nature &amp; Wildlife Areas</td>\n",
       "      <td>Squamish</td>\n",
       "      <td>Canada</td>\n",
       "      <td>South America</td>\n",
       "      <td>America</td>\n",
       "      <td>1.000</td>\n",
       "      <td>1</td>\n",
       "      <td>0.663674</td>\n",
       "      <td>1</td>\n",
       "    </tr>\n",
       "    <tr>\n",
       "      <th>3</th>\n",
       "      <td>31019</td>\n",
       "      <td>10</td>\n",
       "      <td>2022</td>\n",
       "      <td>10</td>\n",
       "      <td>0.50</td>\n",
       "      <td>2022-10-01</td>\n",
       "      <td>Family</td>\n",
       "      <td>Sacred Monkey Forest Sanctuary</td>\n",
       "      <td>Jl. Monkey Forest, Ubud 80571 Indonesia</td>\n",
       "      <td>Nature &amp; Wildlife Areas</td>\n",
       "      <td>Innisfil</td>\n",
       "      <td>Canada</td>\n",
       "      <td>South America</td>\n",
       "      <td>America</td>\n",
       "      <td>0.500</td>\n",
       "      <td>2</td>\n",
       "      <td>0.663674</td>\n",
       "      <td>2</td>\n",
       "    </tr>\n",
       "    <tr>\n",
       "      <th>4</th>\n",
       "      <td>43611</td>\n",
       "      <td>15</td>\n",
       "      <td>2022</td>\n",
       "      <td>10</td>\n",
       "      <td>0.50</td>\n",
       "      <td>2022-10-01</td>\n",
       "      <td>Couples</td>\n",
       "      <td>Sacred Monkey Forest Sanctuary</td>\n",
       "      <td>Jl. Monkey Forest, Ubud 80571 Indonesia</td>\n",
       "      <td>Nature &amp; Wildlife Areas</td>\n",
       "      <td>Crown Point</td>\n",
       "      <td>United States</td>\n",
       "      <td>South America</td>\n",
       "      <td>America</td>\n",
       "      <td>0.500</td>\n",
       "      <td>3</td>\n",
       "      <td>0.663674</td>\n",
       "      <td>3</td>\n",
       "    </tr>\n",
       "    <tr>\n",
       "      <th>...</th>\n",
       "      <td>...</td>\n",
       "      <td>...</td>\n",
       "      <td>...</td>\n",
       "      <td>...</td>\n",
       "      <td>...</td>\n",
       "      <td>...</td>\n",
       "      <td>...</td>\n",
       "      <td>...</td>\n",
       "      <td>...</td>\n",
       "      <td>...</td>\n",
       "      <td>...</td>\n",
       "      <td>...</td>\n",
       "      <td>...</td>\n",
       "      <td>...</td>\n",
       "      <td>...</td>\n",
       "      <td>...</td>\n",
       "      <td>...</td>\n",
       "      <td>...</td>\n",
       "    </tr>\n",
       "    <tr>\n",
       "      <th>62218</th>\n",
       "      <td>87100</td>\n",
       "      <td>211227</td>\n",
       "      <td>2018</td>\n",
       "      <td>9</td>\n",
       "      <td>0.75</td>\n",
       "      <td>2018-09-01</td>\n",
       "      <td>Couples</td>\n",
       "      <td>Yogyakarta Palace</td>\n",
       "      <td>Yogyakarta</td>\n",
       "      <td>Historic Sites</td>\n",
       "      <td>Lilydale</td>\n",
       "      <td>Australia</td>\n",
       "      <td>Oceania</td>\n",
       "      <td>Australia &amp; Oceania</td>\n",
       "      <td>0.500</td>\n",
       "      <td>4</td>\n",
       "      <td>0.096336</td>\n",
       "      <td>4</td>\n",
       "    </tr>\n",
       "    <tr>\n",
       "      <th>62219</th>\n",
       "      <td>88112</td>\n",
       "      <td>211238</td>\n",
       "      <td>2016</td>\n",
       "      <td>2</td>\n",
       "      <td>1.00</td>\n",
       "      <td>2016-02-01</td>\n",
       "      <td>Couples</td>\n",
       "      <td>Yogyakarta Palace</td>\n",
       "      <td>Yogyakarta</td>\n",
       "      <td>Historic Sites</td>\n",
       "      <td>Bowen</td>\n",
       "      <td>Australia</td>\n",
       "      <td>Oceania</td>\n",
       "      <td>Australia &amp; Oceania</td>\n",
       "      <td>0.875</td>\n",
       "      <td>4</td>\n",
       "      <td>0.096336</td>\n",
       "      <td>4</td>\n",
       "    </tr>\n",
       "    <tr>\n",
       "      <th>62220</th>\n",
       "      <td>88112</td>\n",
       "      <td>211239</td>\n",
       "      <td>2016</td>\n",
       "      <td>2</td>\n",
       "      <td>0.75</td>\n",
       "      <td>2016-02-01</td>\n",
       "      <td>Couples</td>\n",
       "      <td>Yogyakarta Palace</td>\n",
       "      <td>Yogyakarta</td>\n",
       "      <td>Historic Sites</td>\n",
       "      <td>Bowen</td>\n",
       "      <td>Australia</td>\n",
       "      <td>Oceania</td>\n",
       "      <td>Australia &amp; Oceania</td>\n",
       "      <td>0.875</td>\n",
       "      <td>4</td>\n",
       "      <td>0.096336</td>\n",
       "      <td>4</td>\n",
       "    </tr>\n",
       "    <tr>\n",
       "      <th>62221</th>\n",
       "      <td>88112</td>\n",
       "      <td>211240</td>\n",
       "      <td>2016</td>\n",
       "      <td>2</td>\n",
       "      <td>0.75</td>\n",
       "      <td>2016-02-01</td>\n",
       "      <td>Couples</td>\n",
       "      <td>Yogyakarta Palace</td>\n",
       "      <td>Yogyakarta</td>\n",
       "      <td>Historic Sites</td>\n",
       "      <td>Bowen</td>\n",
       "      <td>Australia</td>\n",
       "      <td>Oceania</td>\n",
       "      <td>Australia &amp; Oceania</td>\n",
       "      <td>0.875</td>\n",
       "      <td>4</td>\n",
       "      <td>0.096336</td>\n",
       "      <td>4</td>\n",
       "    </tr>\n",
       "    <tr>\n",
       "      <th>62222</th>\n",
       "      <td>88112</td>\n",
       "      <td>211241</td>\n",
       "      <td>2016</td>\n",
       "      <td>2</td>\n",
       "      <td>1.00</td>\n",
       "      <td>2016-02-01</td>\n",
       "      <td>Couples</td>\n",
       "      <td>Yogyakarta Palace</td>\n",
       "      <td>Yogyakarta</td>\n",
       "      <td>Historic Sites</td>\n",
       "      <td>Bowen</td>\n",
       "      <td>Australia</td>\n",
       "      <td>Oceania</td>\n",
       "      <td>Australia &amp; Oceania</td>\n",
       "      <td>0.875</td>\n",
       "      <td>4</td>\n",
       "      <td>0.096336</td>\n",
       "      <td>4</td>\n",
       "    </tr>\n",
       "  </tbody>\n",
       "</table>\n",
       "<p>62223 rows × 18 columns</p>\n",
       "</div>"
      ],
      "text/plain": [
       "       UserId  TransactionId  VisitYear  VisitMonth  Rating   VisitDate  \\\n",
       "0       70456              3       2022          10    1.00  2022-10-01   \n",
       "1        7567              8       2022          10    1.00  2022-10-01   \n",
       "2       79069              9       2022          10    1.00  2022-10-01   \n",
       "3       31019             10       2022          10    0.50  2022-10-01   \n",
       "4       43611             15       2022          10    0.50  2022-10-01   \n",
       "...       ...            ...        ...         ...     ...         ...   \n",
       "62218   87100         211227       2018           9    0.75  2018-09-01   \n",
       "62219   88112         211238       2016           2    1.00  2016-02-01   \n",
       "62220   88112         211239       2016           2    0.75  2016-02-01   \n",
       "62221   88112         211240       2016           2    0.75  2016-02-01   \n",
       "62222   88112         211241       2016           2    1.00  2016-02-01   \n",
       "\n",
       "      VisitMode                      Attraction  \\\n",
       "0       Couples  Sacred Monkey Forest Sanctuary   \n",
       "1       Friends  Sacred Monkey Forest Sanctuary   \n",
       "2        Family  Sacred Monkey Forest Sanctuary   \n",
       "3        Family  Sacred Monkey Forest Sanctuary   \n",
       "4       Couples  Sacred Monkey Forest Sanctuary   \n",
       "...         ...                             ...   \n",
       "62218   Couples               Yogyakarta Palace   \n",
       "62219   Couples               Yogyakarta Palace   \n",
       "62220   Couples               Yogyakarta Palace   \n",
       "62221   Couples               Yogyakarta Palace   \n",
       "62222   Couples               Yogyakarta Palace   \n",
       "\n",
       "                             AttractionAddress           AttractionType  \\\n",
       "0      Jl. Monkey Forest, Ubud 80571 Indonesia  Nature & Wildlife Areas   \n",
       "1      Jl. Monkey Forest, Ubud 80571 Indonesia  Nature & Wildlife Areas   \n",
       "2      Jl. Monkey Forest, Ubud 80571 Indonesia  Nature & Wildlife Areas   \n",
       "3      Jl. Monkey Forest, Ubud 80571 Indonesia  Nature & Wildlife Areas   \n",
       "4      Jl. Monkey Forest, Ubud 80571 Indonesia  Nature & Wildlife Areas   \n",
       "...                                        ...                      ...   \n",
       "62218                               Yogyakarta           Historic Sites   \n",
       "62219                               Yogyakarta           Historic Sites   \n",
       "62220                               Yogyakarta           Historic Sites   \n",
       "62221                               Yogyakarta           Historic Sites   \n",
       "62222                               Yogyakarta           Historic Sites   \n",
       "\n",
       "          CityName        Country           Region            Continent  \\\n",
       "0           Kerala          India  South East Asia                 Asia   \n",
       "1       Belleville         Canada    South America              America   \n",
       "2         Squamish         Canada    South America              America   \n",
       "3         Innisfil         Canada    South America              America   \n",
       "4      Crown Point  United States    South America              America   \n",
       "...            ...            ...              ...                  ...   \n",
       "62218     Lilydale      Australia          Oceania  Australia & Oceania   \n",
       "62219        Bowen      Australia          Oceania  Australia & Oceania   \n",
       "62220        Bowen      Australia          Oceania  Australia & Oceania   \n",
       "62221        Bowen      Australia          Oceania  Australia & Oceania   \n",
       "62222        Bowen      Australia          Oceania  Australia & Oceania   \n",
       "\n",
       "       Average rating per user  Total visits by VisitMode per user  \\\n",
       "0                        1.000                                   1   \n",
       "1                        1.000                                   1   \n",
       "2                        1.000                                   1   \n",
       "3                        0.500                                   2   \n",
       "4                        0.500                                   3   \n",
       "...                        ...                                 ...   \n",
       "62218                    0.500                                   4   \n",
       "62219                    0.875                                   4   \n",
       "62220                    0.875                                   4   \n",
       "62221                    0.875                                   4   \n",
       "62222                    0.875                                   4   \n",
       "\n",
       "       Average rating per attraction  Total visits per user  \n",
       "0                           0.663674                      1  \n",
       "1                           0.663674                      1  \n",
       "2                           0.663674                      1  \n",
       "3                           0.663674                      2  \n",
       "4                           0.663674                      3  \n",
       "...                              ...                    ...  \n",
       "62218                       0.096336                      4  \n",
       "62219                       0.096336                      4  \n",
       "62220                       0.096336                      4  \n",
       "62221                       0.096336                      4  \n",
       "62222                       0.096336                      4  \n",
       "\n",
       "[62223 rows x 18 columns]"
      ]
     },
     "execution_count": 4,
     "metadata": {},
     "output_type": "execute_result"
    }
   ],
   "source": [
    "Tourism_data"
   ]
  },
  {
   "cell_type": "markdown",
   "id": "230ede33",
   "metadata": {},
   "source": [
    "○\t**Visualize user distribution across continents, countries, and regions.**"
   ]
  },
  {
   "cell_type": "markdown",
   "id": "23f1dc75",
   "metadata": {},
   "source": [
    "- Count of users by continent"
   ]
  },
  {
   "cell_type": "code",
   "execution_count": 5,
   "id": "5e6d0778",
   "metadata": {},
   "outputs": [
    {
     "data": {
      "text/html": [
       "<div>\n",
       "<style scoped>\n",
       "    .dataframe tbody tr th:only-of-type {\n",
       "        vertical-align: middle;\n",
       "    }\n",
       "\n",
       "    .dataframe tbody tr th {\n",
       "        vertical-align: top;\n",
       "    }\n",
       "\n",
       "    .dataframe thead th {\n",
       "        text-align: right;\n",
       "    }\n",
       "</style>\n",
       "<table border=\"1\" class=\"dataframe\">\n",
       "  <thead>\n",
       "    <tr style=\"text-align: right;\">\n",
       "      <th></th>\n",
       "      <th>Continent</th>\n",
       "      <th>Total_Users</th>\n",
       "    </tr>\n",
       "  </thead>\n",
       "  <tbody>\n",
       "    <tr>\n",
       "      <th>0</th>\n",
       "      <td>America</td>\n",
       "      <td>31700</td>\n",
       "    </tr>\n",
       "    <tr>\n",
       "      <th>1</th>\n",
       "      <td>Australia &amp; Oceania</td>\n",
       "      <td>15833</td>\n",
       "    </tr>\n",
       "    <tr>\n",
       "      <th>2</th>\n",
       "      <td>Asia</td>\n",
       "      <td>12516</td>\n",
       "    </tr>\n",
       "    <tr>\n",
       "      <th>3</th>\n",
       "      <td>Africa</td>\n",
       "      <td>1726</td>\n",
       "    </tr>\n",
       "    <tr>\n",
       "      <th>4</th>\n",
       "      <td>Europe</td>\n",
       "      <td>448</td>\n",
       "    </tr>\n",
       "  </tbody>\n",
       "</table>\n",
       "</div>"
      ],
      "text/plain": [
       "             Continent  Total_Users\n",
       "0              America        31700\n",
       "1  Australia & Oceania        15833\n",
       "2                 Asia        12516\n",
       "3               Africa         1726\n",
       "4               Europe          448"
      ]
     },
     "execution_count": 5,
     "metadata": {},
     "output_type": "execute_result"
    }
   ],
   "source": [
    "continent_counts = Tourism_data['Continent'].value_counts().reset_index()\n",
    "continent_counts.columns = ['Continent', 'Total_Users']\n",
    "continent_counts"
   ]
  },
  {
   "cell_type": "code",
   "execution_count": 6,
   "id": "f9450063",
   "metadata": {},
   "outputs": [
    {
     "name": "stderr",
     "output_type": "stream",
     "text": [
      "C:\\Users\\dhars\\AppData\\Local\\Temp\\ipykernel_3172\\2832937772.py:3: FutureWarning: \n",
      "\n",
      "Passing `palette` without assigning `hue` is deprecated and will be removed in v0.14.0. Assign the `x` variable to `hue` and set `legend=False` for the same effect.\n",
      "\n",
      "  ax = sns.barplot(x=continent_counts.Continent, y=continent_counts.Total_Users, palette=\"viridis\")\n"
     ]
    },
    {
     "data": {
      "image/png": "[encoded data removed]",
      "text/plain": [
       "<Figure size 800x500 with 1 Axes>"
      ]
     },
     "metadata": {},
     "output_type": "display_data"
    }
   ],
   "source": [
    "# Count of users by continent\n",
    "plt.figure(figsize=(8, 5))\n",
    "ax = sns.barplot(x=continent_counts.Continent, y=continent_counts.Total_Users, palette=\"viridis\")\n",
    "\n",
    "for i in ax.containers:\n",
    "    ax.bar_label(i, label_type='edge', padding=3)\n",
    "\n",
    "plt.tight_layout()\n",
    "plt.title(\"Distribution of Users Across Continents\")\n",
    "plt.xlabel(\"Continent\")\n",
    "plt.ylabel(\"Number of Users\")\n",
    "plt.show()"
   ]
  },
  {
   "cell_type": "markdown",
   "id": "f351c76d",
   "metadata": {},
   "source": [
    "- Count of users by region"
   ]
  },
  {
   "cell_type": "code",
   "execution_count": 7,
   "id": "3d76fca3",
   "metadata": {},
   "outputs": [
    {
     "data": {
      "text/html": [
       "<div>\n",
       "<style scoped>\n",
       "    .dataframe tbody tr th:only-of-type {\n",
       "        vertical-align: middle;\n",
       "    }\n",
       "\n",
       "    .dataframe tbody tr th {\n",
       "        vertical-align: top;\n",
       "    }\n",
       "\n",
       "    .dataframe thead th {\n",
       "        text-align: right;\n",
       "    }\n",
       "</style>\n",
       "<table border=\"1\" class=\"dataframe\">\n",
       "  <thead>\n",
       "    <tr style=\"text-align: right;\">\n",
       "      <th></th>\n",
       "      <th>Region</th>\n",
       "      <th>Total_Users</th>\n",
       "    </tr>\n",
       "  </thead>\n",
       "  <tbody>\n",
       "    <tr>\n",
       "      <th>0</th>\n",
       "      <td>South America</td>\n",
       "      <td>28925</td>\n",
       "    </tr>\n",
       "    <tr>\n",
       "      <th>1</th>\n",
       "      <td>Oceania</td>\n",
       "      <td>9438</td>\n",
       "    </tr>\n",
       "    <tr>\n",
       "      <th>2</th>\n",
       "      <td>Australia</td>\n",
       "      <td>6395</td>\n",
       "    </tr>\n",
       "    <tr>\n",
       "      <th>3</th>\n",
       "      <td>Middle East</td>\n",
       "      <td>5856</td>\n",
       "    </tr>\n",
       "    <tr>\n",
       "      <th>4</th>\n",
       "      <td>South East Asia</td>\n",
       "      <td>2475</td>\n",
       "    </tr>\n",
       "    <tr>\n",
       "      <th>5</th>\n",
       "      <td>Northern America</td>\n",
       "      <td>2195</td>\n",
       "    </tr>\n",
       "    <tr>\n",
       "      <th>6</th>\n",
       "      <td>South Asia</td>\n",
       "      <td>2071</td>\n",
       "    </tr>\n",
       "    <tr>\n",
       "      <th>7</th>\n",
       "      <td>Central Asia</td>\n",
       "      <td>2031</td>\n",
       "    </tr>\n",
       "    <tr>\n",
       "      <th>8</th>\n",
       "      <td>West Africa</td>\n",
       "      <td>938</td>\n",
       "    </tr>\n",
       "    <tr>\n",
       "      <th>9</th>\n",
       "      <td>Central America</td>\n",
       "      <td>541</td>\n",
       "    </tr>\n",
       "    <tr>\n",
       "      <th>10</th>\n",
       "      <td>Central Europe</td>\n",
       "      <td>448</td>\n",
       "    </tr>\n",
       "    <tr>\n",
       "      <th>11</th>\n",
       "      <td>Southern Africa</td>\n",
       "      <td>387</td>\n",
       "    </tr>\n",
       "    <tr>\n",
       "      <th>12</th>\n",
       "      <td>North Africa</td>\n",
       "      <td>361</td>\n",
       "    </tr>\n",
       "    <tr>\n",
       "      <th>13</th>\n",
       "      <td>East Asia</td>\n",
       "      <td>83</td>\n",
       "    </tr>\n",
       "    <tr>\n",
       "      <th>14</th>\n",
       "      <td>Caribbean</td>\n",
       "      <td>39</td>\n",
       "    </tr>\n",
       "    <tr>\n",
       "      <th>15</th>\n",
       "      <td>East Africa</td>\n",
       "      <td>30</td>\n",
       "    </tr>\n",
       "    <tr>\n",
       "      <th>16</th>\n",
       "      <td>Central Africa</td>\n",
       "      <td>10</td>\n",
       "    </tr>\n",
       "  </tbody>\n",
       "</table>\n",
       "</div>"
      ],
      "text/plain": [
       "              Region  Total_Users\n",
       "0      South America        28925\n",
       "1            Oceania         9438\n",
       "2          Australia         6395\n",
       "3        Middle East         5856\n",
       "4    South East Asia         2475\n",
       "5   Northern America         2195\n",
       "6         South Asia         2071\n",
       "7       Central Asia         2031\n",
       "8        West Africa          938\n",
       "9    Central America          541\n",
       "10    Central Europe          448\n",
       "11   Southern Africa          387\n",
       "12      North Africa          361\n",
       "13         East Asia           83\n",
       "14         Caribbean           39\n",
       "15       East Africa           30\n",
       "16    Central Africa           10"
      ]
     },
     "execution_count": 7,
     "metadata": {},
     "output_type": "execute_result"
    }
   ],
   "source": [
    "region_counts = Tourism_data['Region'].value_counts().reset_index()\n",
    "region_counts.columns = ['Region', 'Total_Users']\n",
    "region_counts"
   ]
  },
  {
   "cell_type": "code",
   "execution_count": 8,
   "id": "dfbf6e94",
   "metadata": {},
   "outputs": [
    {
     "name": "stderr",
     "output_type": "stream",
     "text": [
      "C:\\Users\\dhars\\AppData\\Local\\Temp\\ipykernel_3172\\1374592768.py:3: FutureWarning: \n",
      "\n",
      "Passing `palette` without assigning `hue` is deprecated and will be removed in v0.14.0. Assign the `x` variable to `hue` and set `legend=False` for the same effect.\n",
      "\n",
      "  ax = sns.barplot(x=region_counts.Region, y=region_counts.Total_Users, palette=\"viridis\")\n"
     ]
    },
    {
     "data": {
      "image/png": "[encoded data removed]",
      "text/plain": [
       "<Figure size 1800x500 with 1 Axes>"
      ]
     },
     "metadata": {},
     "output_type": "display_data"
    }
   ],
   "source": [
    "# Count of users by continent\n",
    "plt.figure(figsize=(18, 5))\n",
    "ax = sns.barplot(x=region_counts.Region, y=region_counts.Total_Users, palette=\"viridis\")\n",
    "\n",
    "for i in ax.containers:\n",
    "    ax.bar_label(i, label_type='edge', padding=1)\n",
    "\n",
    "plt.tight_layout()\n",
    "plt.xticks(rotation=45)\n",
    "plt.title(\"Distribution of Users Across Regions\")\n",
    "plt.xlabel(\"Region\")\n",
    "plt.ylabel(\"Number of Users\")\n",
    "plt.show()"
   ]
  },
  {
   "cell_type": "markdown",
   "id": "0e6d7b7b",
   "metadata": {},
   "source": [
    "- Count of users by Country"
   ]
  },
  {
   "cell_type": "code",
   "execution_count": 9,
   "id": "72579e70",
   "metadata": {},
   "outputs": [
    {
     "data": {
      "text/html": [
       "<div>\n",
       "<style scoped>\n",
       "    .dataframe tbody tr th:only-of-type {\n",
       "        vertical-align: middle;\n",
       "    }\n",
       "\n",
       "    .dataframe tbody tr th {\n",
       "        vertical-align: top;\n",
       "    }\n",
       "\n",
       "    .dataframe thead th {\n",
       "        text-align: right;\n",
       "    }\n",
       "</style>\n",
       "<table border=\"1\" class=\"dataframe\">\n",
       "  <thead>\n",
       "    <tr style=\"text-align: right;\">\n",
       "      <th></th>\n",
       "      <th>Country</th>\n",
       "      <th>Total_Users</th>\n",
       "    </tr>\n",
       "  </thead>\n",
       "  <tbody>\n",
       "    <tr>\n",
       "      <th>0</th>\n",
       "      <td>United States</td>\n",
       "      <td>22655</td>\n",
       "    </tr>\n",
       "    <tr>\n",
       "      <th>1</th>\n",
       "      <td>Australia</td>\n",
       "      <td>9438</td>\n",
       "    </tr>\n",
       "    <tr>\n",
       "      <th>2</th>\n",
       "      <td>Canada</td>\n",
       "      <td>5639</td>\n",
       "    </tr>\n",
       "    <tr>\n",
       "      <th>3</th>\n",
       "      <td>China</td>\n",
       "      <td>3573</td>\n",
       "    </tr>\n",
       "    <tr>\n",
       "      <th>4</th>\n",
       "      <td>Indonesia</td>\n",
       "      <td>3558</td>\n",
       "    </tr>\n",
       "    <tr>\n",
       "      <th>...</th>\n",
       "      <td>...</td>\n",
       "      <td>...</td>\n",
       "    </tr>\n",
       "    <tr>\n",
       "      <th>110</th>\n",
       "      <td>Libya</td>\n",
       "      <td>1</td>\n",
       "    </tr>\n",
       "    <tr>\n",
       "      <th>111</th>\n",
       "      <td>Côte d'Ivoire</td>\n",
       "      <td>1</td>\n",
       "    </tr>\n",
       "    <tr>\n",
       "      <th>112</th>\n",
       "      <td>Uzbekistan</td>\n",
       "      <td>1</td>\n",
       "    </tr>\n",
       "    <tr>\n",
       "      <th>113</th>\n",
       "      <td>Malawi</td>\n",
       "      <td>1</td>\n",
       "    </tr>\n",
       "    <tr>\n",
       "      <th>114</th>\n",
       "      <td>Suriname</td>\n",
       "      <td>1</td>\n",
       "    </tr>\n",
       "  </tbody>\n",
       "</table>\n",
       "<p>115 rows × 2 columns</p>\n",
       "</div>"
      ],
      "text/plain": [
       "           Country  Total_Users\n",
       "0    United States        22655\n",
       "1        Australia         9438\n",
       "2           Canada         5639\n",
       "3            China         3573\n",
       "4        Indonesia         3558\n",
       "..             ...          ...\n",
       "110          Libya            1\n",
       "111  Côte d'Ivoire            1\n",
       "112     Uzbekistan            1\n",
       "113         Malawi            1\n",
       "114       Suriname            1\n",
       "\n",
       "[115 rows x 2 columns]"
      ]
     },
     "execution_count": 9,
     "metadata": {},
     "output_type": "execute_result"
    }
   ],
   "source": [
    "country_counts = Tourism_data['Country'].value_counts().reset_index()\n",
    "country_counts.columns = ['Country', 'Total_Users']\n",
    "country_counts.sort_values(by='Total_Users', ascending=False)"
   ]
  },
  {
   "cell_type": "code",
   "execution_count": 10,
   "id": "1b19cb5e",
   "metadata": {},
   "outputs": [
    {
     "data": {
      "text/html": [
       "<div>\n",
       "<style scoped>\n",
       "    .dataframe tbody tr th:only-of-type {\n",
       "        vertical-align: middle;\n",
       "    }\n",
       "\n",
       "    .dataframe tbody tr th {\n",
       "        vertical-align: top;\n",
       "    }\n",
       "\n",
       "    .dataframe thead th {\n",
       "        text-align: right;\n",
       "    }\n",
       "</style>\n",
       "<table border=\"1\" class=\"dataframe\">\n",
       "  <thead>\n",
       "    <tr style=\"text-align: right;\">\n",
       "      <th></th>\n",
       "      <th>Country</th>\n",
       "      <th>Total_Users</th>\n",
       "    </tr>\n",
       "  </thead>\n",
       "  <tbody>\n",
       "    <tr>\n",
       "      <th>0</th>\n",
       "      <td>United States</td>\n",
       "      <td>22655</td>\n",
       "    </tr>\n",
       "    <tr>\n",
       "      <th>1</th>\n",
       "      <td>Australia</td>\n",
       "      <td>9438</td>\n",
       "    </tr>\n",
       "    <tr>\n",
       "      <th>2</th>\n",
       "      <td>Canada</td>\n",
       "      <td>5639</td>\n",
       "    </tr>\n",
       "    <tr>\n",
       "      <th>3</th>\n",
       "      <td>China</td>\n",
       "      <td>3573</td>\n",
       "    </tr>\n",
       "    <tr>\n",
       "      <th>4</th>\n",
       "      <td>Indonesia</td>\n",
       "      <td>3558</td>\n",
       "    </tr>\n",
       "    <tr>\n",
       "      <th>5</th>\n",
       "      <td>Japan</td>\n",
       "      <td>1948</td>\n",
       "    </tr>\n",
       "    <tr>\n",
       "      <th>6</th>\n",
       "      <td>India</td>\n",
       "      <td>1905</td>\n",
       "    </tr>\n",
       "    <tr>\n",
       "      <th>7</th>\n",
       "      <td>Nicaragua</td>\n",
       "      <td>1847</td>\n",
       "    </tr>\n",
       "    <tr>\n",
       "      <th>8</th>\n",
       "      <td>Philippines</td>\n",
       "      <td>1196</td>\n",
       "    </tr>\n",
       "    <tr>\n",
       "      <th>9</th>\n",
       "      <td>Argentina</td>\n",
       "      <td>976</td>\n",
       "    </tr>\n",
       "  </tbody>\n",
       "</table>\n",
       "</div>"
      ],
      "text/plain": [
       "         Country  Total_Users\n",
       "0  United States        22655\n",
       "1      Australia         9438\n",
       "2         Canada         5639\n",
       "3          China         3573\n",
       "4      Indonesia         3558\n",
       "5          Japan         1948\n",
       "6          India         1905\n",
       "7      Nicaragua         1847\n",
       "8    Philippines         1196\n",
       "9      Argentina          976"
      ]
     },
     "execution_count": 10,
     "metadata": {},
     "output_type": "execute_result"
    }
   ],
   "source": [
    "top_n = 10\n",
    "top_countries = country_counts.nlargest(top_n, 'Total_Users')\n",
    "top_countries"
   ]
  },
  {
   "cell_type": "code",
   "execution_count": 11,
   "id": "22d0f20d",
   "metadata": {},
   "outputs": [
    {
     "name": "stderr",
     "output_type": "stream",
     "text": [
      "C:\\Users\\dhars\\AppData\\Local\\Temp\\ipykernel_3172\\3432813167.py:3: FutureWarning: \n",
      "\n",
      "Passing `palette` without assigning `hue` is deprecated and will be removed in v0.14.0. Assign the `x` variable to `hue` and set `legend=False` for the same effect.\n",
      "\n",
      "  ax = sns.barplot(x=top_countries.Country, y=top_countries.Total_Users, palette=\"viridis\")\n"
     ]
    },
    {
     "data": {
      "image/png": "[encoded data removed]",
      "text/plain": [
       "<Figure size 1800x500 with 1 Axes>"
      ]
     },
     "metadata": {},
     "output_type": "display_data"
    }
   ],
   "source": [
    "# Count of users by Country\n",
    "plt.figure(figsize=(18, 5))\n",
    "ax = sns.barplot(x=top_countries.Country, y=top_countries.Total_Users, palette=\"viridis\")\n",
    "\n",
    "for i in ax.containers:\n",
    "    ax.bar_label(i, label_type='edge', padding=1)\n",
    "\n",
    "plt.tight_layout()\n",
    "plt.xticks(rotation=45)\n",
    "plt.title(\"Distribution of Users Across Country - for Top 10 Countries\")\n",
    "plt.xlabel(\"Country\")\n",
    "plt.ylabel(\"Number of Users\")\n",
    "plt.show()"
   ]
  },
  {
   "cell_type": "markdown",
   "id": "76691dd7",
   "metadata": {},
   "source": [
    "- Count of users by City"
   ]
  },
  {
   "cell_type": "code",
   "execution_count": 12,
   "id": "a128012a",
   "metadata": {},
   "outputs": [
    {
     "data": {
      "text/html": [
       "<div>\n",
       "<style scoped>\n",
       "    .dataframe tbody tr th:only-of-type {\n",
       "        vertical-align: middle;\n",
       "    }\n",
       "\n",
       "    .dataframe tbody tr th {\n",
       "        vertical-align: top;\n",
       "    }\n",
       "\n",
       "    .dataframe thead th {\n",
       "        text-align: right;\n",
       "    }\n",
       "</style>\n",
       "<table border=\"1\" class=\"dataframe\">\n",
       "  <thead>\n",
       "    <tr style=\"text-align: right;\">\n",
       "      <th></th>\n",
       "      <th>City</th>\n",
       "      <th>Total_Users</th>\n",
       "    </tr>\n",
       "  </thead>\n",
       "  <tbody>\n",
       "    <tr>\n",
       "      <th>0</th>\n",
       "      <td>Hong Kong</td>\n",
       "      <td>3082</td>\n",
       "    </tr>\n",
       "    <tr>\n",
       "      <th>1</th>\n",
       "      <td>Del Mar</td>\n",
       "      <td>2554</td>\n",
       "    </tr>\n",
       "    <tr>\n",
       "      <th>2</th>\n",
       "      <td>Megamendung</td>\n",
       "      <td>2040</td>\n",
       "    </tr>\n",
       "    <tr>\n",
       "      <th>3</th>\n",
       "      <td>Rivas</td>\n",
       "      <td>1843</td>\n",
       "    </tr>\n",
       "    <tr>\n",
       "      <th>4</th>\n",
       "      <td>Edmonton</td>\n",
       "      <td>1828</td>\n",
       "    </tr>\n",
       "    <tr>\n",
       "      <th>...</th>\n",
       "      <td>...</td>\n",
       "      <td>...</td>\n",
       "    </tr>\n",
       "    <tr>\n",
       "      <th>5384</th>\n",
       "      <td>Port Colborne</td>\n",
       "      <td>1</td>\n",
       "    </tr>\n",
       "    <tr>\n",
       "      <th>5385</th>\n",
       "      <td>Australia</td>\n",
       "      <td>1</td>\n",
       "    </tr>\n",
       "    <tr>\n",
       "      <th>5386</th>\n",
       "      <td>Windermere</td>\n",
       "      <td>1</td>\n",
       "    </tr>\n",
       "    <tr>\n",
       "      <th>5387</th>\n",
       "      <td>Katanning</td>\n",
       "      <td>1</td>\n",
       "    </tr>\n",
       "    <tr>\n",
       "      <th>5388</th>\n",
       "      <td>Bullsbrook</td>\n",
       "      <td>1</td>\n",
       "    </tr>\n",
       "  </tbody>\n",
       "</table>\n",
       "<p>5389 rows × 2 columns</p>\n",
       "</div>"
      ],
      "text/plain": [
       "               City  Total_Users\n",
       "0         Hong Kong         3082\n",
       "1           Del Mar         2554\n",
       "2       Megamendung         2040\n",
       "3             Rivas         1843\n",
       "4          Edmonton         1828\n",
       "...             ...          ...\n",
       "5384  Port Colborne            1\n",
       "5385      Australia            1\n",
       "5386     Windermere            1\n",
       "5387      Katanning            1\n",
       "5388     Bullsbrook            1\n",
       "\n",
       "[5389 rows x 2 columns]"
      ]
     },
     "execution_count": 12,
     "metadata": {},
     "output_type": "execute_result"
    }
   ],
   "source": [
    "city_counts = Tourism_data['CityName'].value_counts().reset_index()\n",
    "city_counts.columns = ['City', 'Total_Users']\n",
    "city_counts"
   ]
  },
  {
   "cell_type": "code",
   "execution_count": 13,
   "id": "c59e6487",
   "metadata": {},
   "outputs": [
    {
     "data": {
      "text/html": [
       "<div>\n",
       "<style scoped>\n",
       "    .dataframe tbody tr th:only-of-type {\n",
       "        vertical-align: middle;\n",
       "    }\n",
       "\n",
       "    .dataframe tbody tr th {\n",
       "        vertical-align: top;\n",
       "    }\n",
       "\n",
       "    .dataframe thead th {\n",
       "        text-align: right;\n",
       "    }\n",
       "</style>\n",
       "<table border=\"1\" class=\"dataframe\">\n",
       "  <thead>\n",
       "    <tr style=\"text-align: right;\">\n",
       "      <th></th>\n",
       "      <th>City</th>\n",
       "      <th>Total_Users</th>\n",
       "    </tr>\n",
       "  </thead>\n",
       "  <tbody>\n",
       "    <tr>\n",
       "      <th>0</th>\n",
       "      <td>Hong Kong</td>\n",
       "      <td>3082</td>\n",
       "    </tr>\n",
       "    <tr>\n",
       "      <th>1</th>\n",
       "      <td>Del Mar</td>\n",
       "      <td>2554</td>\n",
       "    </tr>\n",
       "    <tr>\n",
       "      <th>2</th>\n",
       "      <td>Megamendung</td>\n",
       "      <td>2040</td>\n",
       "    </tr>\n",
       "    <tr>\n",
       "      <th>3</th>\n",
       "      <td>Rivas</td>\n",
       "      <td>1843</td>\n",
       "    </tr>\n",
       "    <tr>\n",
       "      <th>4</th>\n",
       "      <td>Edmonton</td>\n",
       "      <td>1828</td>\n",
       "    </tr>\n",
       "    <tr>\n",
       "      <th>5</th>\n",
       "      <td>Trophy Club</td>\n",
       "      <td>1760</td>\n",
       "    </tr>\n",
       "    <tr>\n",
       "      <th>6</th>\n",
       "      <td>Boca Raton</td>\n",
       "      <td>1741</td>\n",
       "    </tr>\n",
       "    <tr>\n",
       "      <th>7</th>\n",
       "      <td>Maniwa</td>\n",
       "      <td>1229</td>\n",
       "    </tr>\n",
       "    <tr>\n",
       "      <th>8</th>\n",
       "      <td>Sulaymaniyah</td>\n",
       "      <td>956</td>\n",
       "    </tr>\n",
       "    <tr>\n",
       "      <th>9</th>\n",
       "      <td>Province of Cordoba</td>\n",
       "      <td>905</td>\n",
       "    </tr>\n",
       "  </tbody>\n",
       "</table>\n",
       "</div>"
      ],
      "text/plain": [
       "                  City  Total_Users\n",
       "0            Hong Kong         3082\n",
       "1              Del Mar         2554\n",
       "2          Megamendung         2040\n",
       "3                Rivas         1843\n",
       "4             Edmonton         1828\n",
       "5          Trophy Club         1760\n",
       "6           Boca Raton         1741\n",
       "7               Maniwa         1229\n",
       "8         Sulaymaniyah          956\n",
       "9  Province of Cordoba          905"
      ]
     },
     "execution_count": 13,
     "metadata": {},
     "output_type": "execute_result"
    }
   ],
   "source": [
    "top_n = 10\n",
    "top_city = city_counts.nlargest(top_n, 'Total_Users')\n",
    "top_city"
   ]
  },
  {
   "cell_type": "code",
   "execution_count": 15,
   "id": "b5d00ad4",
   "metadata": {},
   "outputs": [
    {
     "name": "stderr",
     "output_type": "stream",
     "text": [
      "C:\\Users\\dhars\\AppData\\Local\\Temp\\ipykernel_3172\\346737850.py:2: FutureWarning: \n",
      "\n",
      "Passing `palette` without assigning `hue` is deprecated and will be removed in v0.14.0. Assign the `x` variable to `hue` and set `legend=False` for the same effect.\n",
      "\n",
      "  ax = sns.barplot(x=top_city.City, y=top_city.Total_Users, palette=\"viridis\")\n"
     ]
    },
    {
     "data": {
      "image/png": "[encoded data removed]",
      "text/plain": [
       "<Figure size 1800x500 with 1 Axes>"
      ]
     },
     "metadata": {},
     "output_type": "display_data"
    }
   ],
   "source": [
    "plt.figure(figsize=(18, 5))\n",
    "ax = sns.barplot(x=top_city.City, y=top_city.Total_Users, palette=\"viridis\")\n",
    "\n",
    "for i in ax.containers:\n",
    "    ax.bar_label(i, label_type='edge', padding=1)\n",
    "\n",
    "plt.tight_layout()\n",
    "plt.xticks(rotation=45)\n",
    "plt.title(\"Distribution of Users Across City\")\n",
    "plt.xlabel(\"City\")\n",
    "plt.ylabel(\"Number of Users\")\n",
    "plt.show()"
   ]
  },
  {
   "cell_type": "markdown",
   "id": "611fd33f",
   "metadata": {},
   "source": [
    "○\tExplore attraction types and their popularity based on user ratings."
   ]
  },
  {
   "cell_type": "markdown",
   "id": "c59cb4c0",
   "metadata": {},
   "source": [
    "- Popularity of Attraction Types by Visits:"
   ]
  },
  {
   "cell_type": "code",
   "execution_count": 40,
   "id": "c0001d91",
   "metadata": {},
   "outputs": [
    {
     "data": {
      "text/html": [
       "<div>\n",
       "<style scoped>\n",
       "    .dataframe tbody tr th:only-of-type {\n",
       "        vertical-align: middle;\n",
       "    }\n",
       "\n",
       "    .dataframe tbody tr th {\n",
       "        vertical-align: top;\n",
       "    }\n",
       "\n",
       "    .dataframe thead th {\n",
       "        text-align: right;\n",
       "    }\n",
       "</style>\n",
       "<table border=\"1\" class=\"dataframe\">\n",
       "  <thead>\n",
       "    <tr style=\"text-align: right;\">\n",
       "      <th></th>\n",
       "      <th>AttractionType</th>\n",
       "      <th>Total_Visits</th>\n",
       "    </tr>\n",
       "  </thead>\n",
       "  <tbody>\n",
       "    <tr>\n",
       "      <th>0</th>\n",
       "      <td>Nature &amp; Wildlife Areas</td>\n",
       "      <td>15310</td>\n",
       "    </tr>\n",
       "    <tr>\n",
       "      <th>1</th>\n",
       "      <td>Beaches</td>\n",
       "      <td>12722</td>\n",
       "    </tr>\n",
       "    <tr>\n",
       "      <th>2</th>\n",
       "      <td>Religious Sites</td>\n",
       "      <td>7731</td>\n",
       "    </tr>\n",
       "    <tr>\n",
       "      <th>3</th>\n",
       "      <td>Water Parks</td>\n",
       "      <td>7508</td>\n",
       "    </tr>\n",
       "    <tr>\n",
       "      <th>4</th>\n",
       "      <td>Points of Interest &amp; Landmarks</td>\n",
       "      <td>7213</td>\n",
       "    </tr>\n",
       "    <tr>\n",
       "      <th>5</th>\n",
       "      <td>Volcanos</td>\n",
       "      <td>3141</td>\n",
       "    </tr>\n",
       "    <tr>\n",
       "      <th>6</th>\n",
       "      <td>Waterfalls</td>\n",
       "      <td>2644</td>\n",
       "    </tr>\n",
       "    <tr>\n",
       "      <th>7</th>\n",
       "      <td>Flea &amp; Street Markets</td>\n",
       "      <td>1789</td>\n",
       "    </tr>\n",
       "    <tr>\n",
       "      <th>8</th>\n",
       "      <td>History Museums</td>\n",
       "      <td>1280</td>\n",
       "    </tr>\n",
       "    <tr>\n",
       "      <th>9</th>\n",
       "      <td>Historic Sites</td>\n",
       "      <td>927</td>\n",
       "    </tr>\n",
       "    <tr>\n",
       "      <th>10</th>\n",
       "      <td>Ancient Ruins</td>\n",
       "      <td>671</td>\n",
       "    </tr>\n",
       "    <tr>\n",
       "      <th>11</th>\n",
       "      <td>National Parks</td>\n",
       "      <td>568</td>\n",
       "    </tr>\n",
       "    <tr>\n",
       "      <th>12</th>\n",
       "      <td>Ballets</td>\n",
       "      <td>454</td>\n",
       "    </tr>\n",
       "    <tr>\n",
       "      <th>13</th>\n",
       "      <td>Caverns &amp; Caves</td>\n",
       "      <td>141</td>\n",
       "    </tr>\n",
       "    <tr>\n",
       "      <th>14</th>\n",
       "      <td>Neighborhoods</td>\n",
       "      <td>51</td>\n",
       "    </tr>\n",
       "    <tr>\n",
       "      <th>15</th>\n",
       "      <td>Speciality Museums</td>\n",
       "      <td>42</td>\n",
       "    </tr>\n",
       "    <tr>\n",
       "      <th>16</th>\n",
       "      <td>Spas</td>\n",
       "      <td>31</td>\n",
       "    </tr>\n",
       "  </tbody>\n",
       "</table>\n",
       "</div>"
      ],
      "text/plain": [
       "                    AttractionType  Total_Visits\n",
       "0          Nature & Wildlife Areas         15310\n",
       "1                          Beaches         12722\n",
       "2                  Religious Sites          7731\n",
       "3                      Water Parks          7508\n",
       "4   Points of Interest & Landmarks          7213\n",
       "5                         Volcanos          3141\n",
       "6                       Waterfalls          2644\n",
       "7            Flea & Street Markets          1789\n",
       "8                  History Museums          1280\n",
       "9                   Historic Sites           927\n",
       "10                   Ancient Ruins           671\n",
       "11                  National Parks           568\n",
       "12                         Ballets           454\n",
       "13                 Caverns & Caves           141\n",
       "14                   Neighborhoods            51\n",
       "15              Speciality Museums            42\n",
       "16                            Spas            31"
      ]
     },
     "execution_count": 40,
     "metadata": {},
     "output_type": "execute_result"
    }
   ],
   "source": [
    "attraction_type_counts = Tourism_data['AttractionType'].value_counts().reset_index()\n",
    "attraction_type_counts.columns = ['AttractionType', 'Total_Visits']\n",
    "attraction_type_counts"
   ]
  },
  {
   "cell_type": "code",
   "execution_count": 42,
   "id": "31715e4f",
   "metadata": {},
   "outputs": [
    {
     "name": "stderr",
     "output_type": "stream",
     "text": [
      "C:\\Users\\dhars\\AppData\\Local\\Temp\\ipykernel_3172\\1725484464.py:2: FutureWarning: \n",
      "\n",
      "Passing `palette` without assigning `hue` is deprecated and will be removed in v0.14.0. Assign the `x` variable to `hue` and set `legend=False` for the same effect.\n",
      "\n",
      "  ax = sns.barplot(x=attraction_type_counts.AttractionType, y=attraction_type_counts.Total_Visits, palette=\"viridis\")\n"
     ]
    },
    {
     "data": {
      "image/png": "[encoded data removed]",
      "text/plain": [
       "<Figure size 1800x500 with 1 Axes>"
      ]
     },
     "metadata": {},
     "output_type": "display_data"
    }
   ],
   "source": [
    "plt.figure(figsize=(18, 5))\n",
    "ax = sns.barplot(x=attraction_type_counts.AttractionType, y=attraction_type_counts.Total_Visits, palette=\"viridis\")\n",
    "\n",
    "for i in ax.containers:\n",
    "    ax.bar_label(i, label_type='edge', padding=1)\n",
    "\n",
    "plt.tight_layout()\n",
    "plt.xticks(rotation=45)\n",
    "plt.title(\"Popularity of Attraction Types\")\n",
    "plt.xlabel(\"AttractionType\")\n",
    "plt.ylabel(\"Number of Visits\")\n",
    "plt.show()"
   ]
  },
  {
   "cell_type": "markdown",
   "id": "6d5bf050",
   "metadata": {},
   "source": [
    "- Average ratings of AttractionType"
   ]
  },
  {
   "cell_type": "code",
   "execution_count": 43,
   "id": "cd2fea3a",
   "metadata": {},
   "outputs": [
    {
     "data": {
      "text/html": [
       "<div>\n",
       "<style scoped>\n",
       "    .dataframe tbody tr th:only-of-type {\n",
       "        vertical-align: middle;\n",
       "    }\n",
       "\n",
       "    .dataframe tbody tr th {\n",
       "        vertical-align: top;\n",
       "    }\n",
       "\n",
       "    .dataframe thead th {\n",
       "        text-align: right;\n",
       "    }\n",
       "</style>\n",
       "<table border=\"1\" class=\"dataframe\">\n",
       "  <thead>\n",
       "    <tr style=\"text-align: right;\">\n",
       "      <th></th>\n",
       "      <th>AttractionType</th>\n",
       "      <th>Average_rating_per_AttractionType</th>\n",
       "    </tr>\n",
       "  </thead>\n",
       "  <tbody>\n",
       "    <tr>\n",
       "      <th>15</th>\n",
       "      <td>Water Parks</td>\n",
       "      <td>0.911694</td>\n",
       "    </tr>\n",
       "    <tr>\n",
       "      <th>12</th>\n",
       "      <td>Spas</td>\n",
       "      <td>0.895161</td>\n",
       "    </tr>\n",
       "    <tr>\n",
       "      <th>3</th>\n",
       "      <td>Caverns &amp; Caves</td>\n",
       "      <td>0.875887</td>\n",
       "    </tr>\n",
       "    <tr>\n",
       "      <th>7</th>\n",
       "      <td>National Parks</td>\n",
       "      <td>0.856514</td>\n",
       "    </tr>\n",
       "    <tr>\n",
       "      <th>9</th>\n",
       "      <td>Neighborhoods</td>\n",
       "      <td>0.823529</td>\n",
       "    </tr>\n",
       "    <tr>\n",
       "      <th>8</th>\n",
       "      <td>Nature &amp; Wildlife Areas</td>\n",
       "      <td>0.816737</td>\n",
       "    </tr>\n",
       "    <tr>\n",
       "      <th>6</th>\n",
       "      <td>History Museums</td>\n",
       "      <td>0.809375</td>\n",
       "    </tr>\n",
       "    <tr>\n",
       "      <th>11</th>\n",
       "      <td>Religious Sites</td>\n",
       "      <td>0.801901</td>\n",
       "    </tr>\n",
       "    <tr>\n",
       "      <th>1</th>\n",
       "      <td>Ballets</td>\n",
       "      <td>0.792952</td>\n",
       "    </tr>\n",
       "    <tr>\n",
       "      <th>10</th>\n",
       "      <td>Points of Interest &amp; Landmarks</td>\n",
       "      <td>0.784590</td>\n",
       "    </tr>\n",
       "    <tr>\n",
       "      <th>13</th>\n",
       "      <td>Speciality Museums</td>\n",
       "      <td>0.773810</td>\n",
       "    </tr>\n",
       "    <tr>\n",
       "      <th>0</th>\n",
       "      <td>Ancient Ruins</td>\n",
       "      <td>0.767884</td>\n",
       "    </tr>\n",
       "    <tr>\n",
       "      <th>14</th>\n",
       "      <td>Volcanos</td>\n",
       "      <td>0.767829</td>\n",
       "    </tr>\n",
       "    <tr>\n",
       "      <th>16</th>\n",
       "      <td>Waterfalls</td>\n",
       "      <td>0.727307</td>\n",
       "    </tr>\n",
       "    <tr>\n",
       "      <th>4</th>\n",
       "      <td>Flea &amp; Street Markets</td>\n",
       "      <td>0.723728</td>\n",
       "    </tr>\n",
       "    <tr>\n",
       "      <th>2</th>\n",
       "      <td>Beaches</td>\n",
       "      <td>0.711445</td>\n",
       "    </tr>\n",
       "    <tr>\n",
       "      <th>5</th>\n",
       "      <td>Historic Sites</td>\n",
       "      <td>0.638889</td>\n",
       "    </tr>\n",
       "  </tbody>\n",
       "</table>\n",
       "</div>"
      ],
      "text/plain": [
       "                    AttractionType  Average_rating_per_AttractionType\n",
       "15                     Water Parks                           0.911694\n",
       "12                            Spas                           0.895161\n",
       "3                  Caverns & Caves                           0.875887\n",
       "7                   National Parks                           0.856514\n",
       "9                    Neighborhoods                           0.823529\n",
       "8          Nature & Wildlife Areas                           0.816737\n",
       "6                  History Museums                           0.809375\n",
       "11                 Religious Sites                           0.801901\n",
       "1                          Ballets                           0.792952\n",
       "10  Points of Interest & Landmarks                           0.784590\n",
       "13              Speciality Museums                           0.773810\n",
       "0                    Ancient Ruins                           0.767884\n",
       "14                        Volcanos                           0.767829\n",
       "16                      Waterfalls                           0.727307\n",
       "4            Flea & Street Markets                           0.723728\n",
       "2                          Beaches                           0.711445\n",
       "5                   Historic Sites                           0.638889"
      ]
     },
     "execution_count": 43,
     "metadata": {},
     "output_type": "execute_result"
    }
   ],
   "source": [
    "attraction_type_stats = Tourism_data.groupby('AttractionType')['Rating'].mean().reset_index()\n",
    "attraction_type_stats.columns = ['AttractionType','Average_rating_per_AttractionType']\n",
    "attraction_type_stats = attraction_type_stats.sort_values(by='Average_rating_per_AttractionType', ascending=False )\n",
    "attraction_type_stats"
   ]
  },
  {
   "cell_type": "code",
   "execution_count": 44,
   "id": "66034b7a",
   "metadata": {},
   "outputs": [
    {
     "name": "stderr",
     "output_type": "stream",
     "text": [
      "C:\\Users\\dhars\\AppData\\Local\\Temp\\ipykernel_3172\\203463823.py:2: FutureWarning: \n",
      "\n",
      "Passing `palette` without assigning `hue` is deprecated and will be removed in v0.14.0. Assign the `x` variable to `hue` and set `legend=False` for the same effect.\n",
      "\n",
      "  ax = sns.barplot(x=attraction_type_stats.AttractionType, y=attraction_type_stats.Average_rating_per_AttractionType, palette=\"viridis\")\n"
     ]
    },
    {
     "data": {
      "image/png": "[encoded data removed]",
      "text/plain": [
       "<Figure size 1800x500 with 1 Axes>"
      ]
     },
     "metadata": {},
     "output_type": "display_data"
    }
   ],
   "source": [
    "plt.figure(figsize=(18, 5))\n",
    "ax = sns.barplot(x=attraction_type_stats.AttractionType, y=attraction_type_stats.Average_rating_per_AttractionType, palette=\"viridis\")\n",
    "\n",
    "for i in ax.containers:\n",
    "    ax.bar_label(i, label_type='edge', padding=1)\n",
    "\n",
    "plt.tight_layout()\n",
    "plt.xticks(rotation=45)\n",
    "plt.title(\"Average ratings of Attraction Type\")\n",
    "plt.xlabel(\"Attraction Types\")\n",
    "plt.ylabel(\"Avg rating per Attraction Type\")\n",
    "plt.show()"
   ]
  },
  {
   "cell_type": "markdown",
   "id": "1b5d3352",
   "metadata": {},
   "source": [
    "○\tInvestigate correlation between VisitMode and user demographics to identify patterns."
   ]
  },
  {
   "cell_type": "markdown",
   "id": "1ec440d3",
   "metadata": {},
   "source": [
    "-  Visit modes by continent:"
   ]
  },
  {
   "cell_type": "code",
   "execution_count": 50,
   "id": "26682935",
   "metadata": {},
   "outputs": [
    {
     "data": {
      "text/html": [
       "<div>\n",
       "<style scoped>\n",
       "    .dataframe tbody tr th:only-of-type {\n",
       "        vertical-align: middle;\n",
       "    }\n",
       "\n",
       "    .dataframe tbody tr th {\n",
       "        vertical-align: top;\n",
       "    }\n",
       "\n",
       "    .dataframe thead th {\n",
       "        text-align: right;\n",
       "    }\n",
       "</style>\n",
       "<table border=\"1\" class=\"dataframe\">\n",
       "  <thead>\n",
       "    <tr style=\"text-align: right;\">\n",
       "      <th></th>\n",
       "      <th>Continent</th>\n",
       "      <th>VisitMode</th>\n",
       "      <th>No_Of_Users</th>\n",
       "    </tr>\n",
       "  </thead>\n",
       "  <tbody>\n",
       "    <tr>\n",
       "      <th>0</th>\n",
       "      <td>Africa</td>\n",
       "      <td>Business</td>\n",
       "      <td>6</td>\n",
       "    </tr>\n",
       "    <tr>\n",
       "      <th>1</th>\n",
       "      <td>Africa</td>\n",
       "      <td>Couples</td>\n",
       "      <td>779</td>\n",
       "    </tr>\n",
       "    <tr>\n",
       "      <th>2</th>\n",
       "      <td>Africa</td>\n",
       "      <td>Family</td>\n",
       "      <td>430</td>\n",
       "    </tr>\n",
       "    <tr>\n",
       "      <th>3</th>\n",
       "      <td>Africa</td>\n",
       "      <td>Friends</td>\n",
       "      <td>343</td>\n",
       "    </tr>\n",
       "    <tr>\n",
       "      <th>4</th>\n",
       "      <td>Africa</td>\n",
       "      <td>Solo</td>\n",
       "      <td>168</td>\n",
       "    </tr>\n",
       "    <tr>\n",
       "      <th>5</th>\n",
       "      <td>America</td>\n",
       "      <td>Business</td>\n",
       "      <td>548</td>\n",
       "    </tr>\n",
       "    <tr>\n",
       "      <th>6</th>\n",
       "      <td>America</td>\n",
       "      <td>Couples</td>\n",
       "      <td>12249</td>\n",
       "    </tr>\n",
       "    <tr>\n",
       "      <th>7</th>\n",
       "      <td>America</td>\n",
       "      <td>Family</td>\n",
       "      <td>8797</td>\n",
       "    </tr>\n",
       "    <tr>\n",
       "      <th>8</th>\n",
       "      <td>America</td>\n",
       "      <td>Friends</td>\n",
       "      <td>6868</td>\n",
       "    </tr>\n",
       "    <tr>\n",
       "      <th>9</th>\n",
       "      <td>America</td>\n",
       "      <td>Solo</td>\n",
       "      <td>3238</td>\n",
       "    </tr>\n",
       "    <tr>\n",
       "      <th>10</th>\n",
       "      <td>Asia</td>\n",
       "      <td>Business</td>\n",
       "      <td>111</td>\n",
       "    </tr>\n",
       "    <tr>\n",
       "      <th>11</th>\n",
       "      <td>Asia</td>\n",
       "      <td>Couples</td>\n",
       "      <td>4417</td>\n",
       "    </tr>\n",
       "    <tr>\n",
       "      <th>12</th>\n",
       "      <td>Asia</td>\n",
       "      <td>Family</td>\n",
       "      <td>4113</td>\n",
       "    </tr>\n",
       "    <tr>\n",
       "      <th>13</th>\n",
       "      <td>Asia</td>\n",
       "      <td>Friends</td>\n",
       "      <td>2822</td>\n",
       "    </tr>\n",
       "    <tr>\n",
       "      <th>14</th>\n",
       "      <td>Asia</td>\n",
       "      <td>Solo</td>\n",
       "      <td>1053</td>\n",
       "    </tr>\n",
       "    <tr>\n",
       "      <th>15</th>\n",
       "      <td>Australia &amp; Oceania</td>\n",
       "      <td>Business</td>\n",
       "      <td>137</td>\n",
       "    </tr>\n",
       "    <tr>\n",
       "      <th>16</th>\n",
       "      <td>Australia &amp; Oceania</td>\n",
       "      <td>Couples</td>\n",
       "      <td>7197</td>\n",
       "    </tr>\n",
       "    <tr>\n",
       "      <th>17</th>\n",
       "      <td>Australia &amp; Oceania</td>\n",
       "      <td>Family</td>\n",
       "      <td>4355</td>\n",
       "    </tr>\n",
       "    <tr>\n",
       "      <th>18</th>\n",
       "      <td>Australia &amp; Oceania</td>\n",
       "      <td>Friends</td>\n",
       "      <td>3002</td>\n",
       "    </tr>\n",
       "    <tr>\n",
       "      <th>19</th>\n",
       "      <td>Australia &amp; Oceania</td>\n",
       "      <td>Solo</td>\n",
       "      <td>1142</td>\n",
       "    </tr>\n",
       "    <tr>\n",
       "      <th>20</th>\n",
       "      <td>Europe</td>\n",
       "      <td>Couples</td>\n",
       "      <td>281</td>\n",
       "    </tr>\n",
       "    <tr>\n",
       "      <th>21</th>\n",
       "      <td>Europe</td>\n",
       "      <td>Family</td>\n",
       "      <td>78</td>\n",
       "    </tr>\n",
       "    <tr>\n",
       "      <th>22</th>\n",
       "      <td>Europe</td>\n",
       "      <td>Friends</td>\n",
       "      <td>62</td>\n",
       "    </tr>\n",
       "    <tr>\n",
       "      <th>23</th>\n",
       "      <td>Europe</td>\n",
       "      <td>Solo</td>\n",
       "      <td>27</td>\n",
       "    </tr>\n",
       "  </tbody>\n",
       "</table>\n",
       "</div>"
      ],
      "text/plain": [
       "              Continent VisitMode  No_Of_Users\n",
       "0                Africa  Business            6\n",
       "1                Africa   Couples          779\n",
       "2                Africa    Family          430\n",
       "3                Africa   Friends          343\n",
       "4                Africa      Solo          168\n",
       "5               America  Business          548\n",
       "6               America   Couples        12249\n",
       "7               America    Family         8797\n",
       "8               America   Friends         6868\n",
       "9               America      Solo         3238\n",
       "10                 Asia  Business          111\n",
       "11                 Asia   Couples         4417\n",
       "12                 Asia    Family         4113\n",
       "13                 Asia   Friends         2822\n",
       "14                 Asia      Solo         1053\n",
       "15  Australia & Oceania  Business          137\n",
       "16  Australia & Oceania   Couples         7197\n",
       "17  Australia & Oceania    Family         4355\n",
       "18  Australia & Oceania   Friends         3002\n",
       "19  Australia & Oceania      Solo         1142\n",
       "20               Europe   Couples          281\n",
       "21               Europe    Family           78\n",
       "22               Europe   Friends           62\n",
       "23               Europe      Solo           27"
      ]
     },
     "execution_count": 50,
     "metadata": {},
     "output_type": "execute_result"
    }
   ],
   "source": [
    "visit_mode_continent = Tourism_data.groupby(['Continent', 'VisitMode'])['UserId'].count().reset_index()\n",
    "visit_mode_continent.columns = ['Continent', 'VisitMode', 'No_Of_Users']\n",
    "visit_mode_continent"
   ]
  },
  {
   "cell_type": "code",
   "execution_count": null,
   "id": "480d9a3e",
   "metadata": {},
   "outputs": [
    {
     "data": {
      "application/vnd.plotly.v1+json": {
       "config": {
        "plotlyServerURL": "https://plot.ly"
       },
       "data": [
        {
         "alignmentgroup": "True",
         "hovertemplate": "VisitMode=Business<br>Continent=%{x}<br>No_Of_Users=%{text}<extra></extra>",
         "legendgroup": "Business",
         "marker": {
          "color": "#636efa",
          "pattern": {
           "shape": ""
          }
         },
         "name": "Business",
         "offsetgroup": "Business",
         "orientation": "v",
         "showlegend": true,
         "text": {
          "bdata": "AAAAAAAAGEAAAAAAACCBQAAAAAAAwFtAAAAAAAAgYUA=",
          "dtype": "f8"
         },
         "textposition": "outside",
         "type": "bar",
         "x": [
          "Africa",
          "America",
          "Asia",
          "Australia & Oceania"
         ],
         "xaxis": "x",
         "y": {
          "bdata": "BgAkAm8AiQA=",
          "dtype": "i2"
         },
         "yaxis": "y"
        },
        {
         "alignmentgroup": "True",
         "hovertemplate": "VisitMode=Couples<br>Continent=%{x}<br>No_Of_Users=%{text}<extra></extra>",
         "legendgroup": "Couples",
         "marker": {
          "color": "#EF553B",
          "pattern": {
           "shape": ""
          }
         },
         "name": "Couples",
         "offsetgroup": "Couples",
         "orientation": "v",
         "showlegend": true,
         "text": {
          "bdata": "AAAAAABYiEAAAAAAgOzHQAAAAAAAQbFAAAAAAAAdvEAAAAAAAJBxQA==",
          "dtype": "f8"
         },
         "textposition": "outside",
         "type": "bar",
         "x": [
          "Africa",
          "America",
          "Asia",
          "Australia & Oceania",
          "Europe"
         ],
         "xaxis": "x",
         "y": {
          "bdata": "CwPZL0ERHRwZAQ==",
          "dtype": "i2"
         },
         "yaxis": "y"
        },
        {
         "alignmentgroup": "True",
         "hovertemplate": "VisitMode=Family<br>Continent=%{x}<br>No_Of_Users=%{text}<extra></extra>",
         "legendgroup": "Family",
         "marker": {
          "color": "#00cc96",
          "pattern": {
           "shape": ""
          }
         },
         "name": "Family",
         "offsetgroup": "Family",
         "orientation": "v",
         "showlegend": true,
         "text": {
          "bdata": "AAAAAADgekAAAAAAgC7BQAAAAAAAEbBAAAAAAAADsUAAAAAAAIBTQA==",
          "dtype": "f8"
         },
         "textposition": "outside",
         "type": "bar",
         "x": [
          "Africa",
          "America",
          "Asia",
          "Australia & Oceania",
          "Europe"
         ],
         "xaxis": "x",
         "y": {
          "bdata": "rgFdIhEQAxFOAA==",
          "dtype": "i2"
         },
         "yaxis": "y"
        },
        {
         "alignmentgroup": "True",
         "hovertemplate": "VisitMode=Friends<br>Continent=%{x}<br>No_Of_Users=%{text}<extra></extra>",
         "legendgroup": "Friends",
         "marker": {
          "color": "#ab63fa",
          "pattern": {
           "shape": ""
          }
         },
         "name": "Friends",
         "offsetgroup": "Friends",
         "orientation": "v",
         "showlegend": true,
         "text": {
          "bdata": "AAAAAABwdUAAAAAAANS6QAAAAAAADKZAAAAAAAB0p0AAAAAAAABPQA==",
          "dtype": "f8"
         },
         "textposition": "outside",
         "type": "bar",
         "x": [
          "Africa",
          "America",
          "Asia",
          "Australia & Oceania",
          "Europe"
         ],
         "xaxis": "x",
         "y": {
          "bdata": "VwHUGgYLugs+AA==",
          "dtype": "i2"
         },
         "yaxis": "y"
        },
        {
         "alignmentgroup": "True",
         "hovertemplate": "VisitMode=Solo<br>Continent=%{x}<br>No_Of_Users=%{text}<extra></extra>",
         "legendgroup": "Solo",
         "marker": {
          "color": "#FFA15A",
          "pattern": {
           "shape": ""
          }
         },
         "name": "Solo",
         "offsetgroup": "Solo",
         "orientation": "v",
         "showlegend": true,
         "text": {
          "bdata": "AAAAAAAAZUAAAAAAAEypQAAAAAAAdJBAAAAAAADYkUAAAAAAAAA7QA==",
          "dtype": "f8"
         },
         "textposition": "outside",
         "type": "bar",
         "x": [
          "Africa",
          "America",
          "Asia",
          "Australia & Oceania",
          "Europe"
         ],
         "xaxis": "x",
         "y": {
          "bdata": "qACmDB0EdgQbAA==",
          "dtype": "i2"
         },
         "yaxis": "y"
        }
       ],
       "layout": {
        "bargap": 0.2,
        "barmode": "group",
        "legend": {
         "title": {
          "text": "Visit Mode"
         },
         "tracegroupgap": 0
        },
        "template": {
         "data": {
          "bar": [
           {
            "error_x": {
             "color": "#2a3f5f"
            },
            "error_y": {
             "color": "#2a3f5f"
            },
            "marker": {
             "line": {
              "color": "#E5ECF6",
              "width": 0.5
             },
             "pattern": {
              "fillmode": "overlay",
              "size": 10,
              "solidity": 0.2
             }
            },
            "type": "bar"
           }
          ],
          "barpolar": [
           {
            "marker": {
             "line": {
              "color": "#E5ECF6",
              "width": 0.5
             },
             "pattern": {
              "fillmode": "overlay",
              "size": 10,
              "solidity": 0.2
             }
            },
            "type": "barpolar"
           }
          ],
          "carpet": [
           {
            "aaxis": {
             "endlinecolor": "#2a3f5f",
             "gridcolor": "white",
             "linecolor": "white",
             "minorgridcolor": "white",
             "startlinecolor": "#2a3f5f"
            },
            "baxis": {
             "endlinecolor": "#2a3f5f",
             "gridcolor": "white",
             "linecolor": "white",
             "minorgridcolor": "white",
             "startlinecolor": "#2a3f5f"
            },
            "type": "carpet"
           }
          ],
          "choropleth": [
           {
            "colorbar": {
             "outlinewidth": 0,
             "ticks": ""
            },
            "type": "choropleth"
           }
          ],
          "contour": [
           {
            "colorbar": {
             "outlinewidth": 0,
             "ticks": ""
            },
            "colorscale": [
             [
              0,
              "#0d0887"
             ],
             [
              0.1111111111111111,
              "#46039f"
             ],
             [
              0.2222222222222222,
              "#7201a8"
             ],
             [
              0.3333333333333333,
              "#9c179e"
             ],
             [
              0.4444444444444444,
              "#bd3786"
             ],
             [
              0.5555555555555556,
              "#d8576b"
             ],
             [
              0.6666666666666666,
              "#ed7953"
             ],
             [
              0.7777777777777778,
              "#fb9f3a"
             ],
             [
              0.8888888888888888,
              "#fdca26"
             ],
             [
              1,
              "#f0f921"
             ]
            ],
            "type": "contour"
           }
          ],
          "contourcarpet": [
           {
            "colorbar": {
             "outlinewidth": 0,
             "ticks": ""
            },
            "type": "contourcarpet"
           }
          ],
          "heatmap": [
           {
            "colorbar": {
             "outlinewidth": 0,
             "ticks": ""
            },
            "colorscale": [
             [
              0,
              "#0d0887"
             ],
             [
              0.1111111111111111,
              "#46039f"
             ],
             [
              0.2222222222222222,
              "#7201a8"
             ],
             [
              0.3333333333333333,
              "#9c179e"
             ],
             [
              0.4444444444444444,
              "#bd3786"
             ],
             [
              0.5555555555555556,
              "#d8576b"
             ],
             [
              0.6666666666666666,
              "#ed7953"
             ],
             [
              0.7777777777777778,
              "#fb9f3a"
             ],
             [
              0.8888888888888888,
              "#fdca26"
             ],
             [
              1,
              "#f0f921"
             ]
            ],
            "type": "heatmap"
           }
          ],
          "histogram": [
           {
            "marker": {
             "pattern": {
              "fillmode": "overlay",
              "size": 10,
              "solidity": 0.2
             }
            },
            "type": "histogram"
           }
          ],
          "histogram2d": [
           {
            "colorbar": {
             "outlinewidth": 0,
             "ticks": ""
            },
            "colorscale": [
             [
              0,
              "#0d0887"
             ],
             [
              0.1111111111111111,
              "#46039f"
             ],
             [
              0.2222222222222222,
              "#7201a8"
             ],
             [
              0.3333333333333333,
              "#9c179e"
             ],
             [
              0.4444444444444444,
              "#bd3786"
             ],
             [
              0.5555555555555556,
              "#d8576b"
             ],
             [
              0.6666666666666666,
              "#ed7953"
             ],
             [
              0.7777777777777778,
              "#fb9f3a"
             ],
             [
              0.8888888888888888,
              "#fdca26"
             ],
             [
              1,
              "#f0f921"
             ]
            ],
            "type": "histogram2d"
           }
          ],
          "histogram2dcontour": [
           {
            "colorbar": {
             "outlinewidth": 0,
             "ticks": ""
            },
            "colorscale": [
             [
              0,
              "#0d0887"
             ],
             [
              0.1111111111111111,
              "#46039f"
             ],
             [
              0.2222222222222222,
              "#7201a8"
             ],
             [
              0.3333333333333333,
              "#9c179e"
             ],
             [
              0.4444444444444444,
              "#bd3786"
             ],
             [
              0.5555555555555556,
              "#d8576b"
             ],
             [
              0.6666666666666666,
              "#ed7953"
             ],
             [
              0.7777777777777778,
              "#fb9f3a"
             ],
             [
              0.8888888888888888,
              "#fdca26"
             ],
             [
              1,
              "#f0f921"
             ]
            ],
            "type": "histogram2dcontour"
           }
          ],
          "mesh3d": [
           {
            "colorbar": {
             "outlinewidth": 0,
             "ticks": ""
            },
            "type": "mesh3d"
           }
          ],
          "parcoords": [
           {
            "line": {
             "colorbar": {
              "outlinewidth": 0,
              "ticks": ""
             }
            },
            "type": "parcoords"
           }
          ],
          "pie": [
           {
            "automargin": true,
            "type": "pie"
           }
          ],
          "scatter": [
           {
            "fillpattern": {
             "fillmode": "overlay",
             "size": 10,
             "solidity": 0.2
            },
            "type": "scatter"
           }
          ],
          "scatter3d": [
           {
            "line": {
             "colorbar": {
              "outlinewidth": 0,
              "ticks": ""
             }
            },
            "marker": {
             "colorbar": {
              "outlinewidth": 0,
              "ticks": ""
             }
            },
            "type": "scatter3d"
           }
          ],
          "scattercarpet": [
           {
            "marker": {
             "colorbar": {
              "outlinewidth": 0,
              "ticks": ""
             }
            },
            "type": "scattercarpet"
           }
          ],
          "scattergeo": [
           {
            "marker": {
             "colorbar": {
              "outlinewidth": 0,
              "ticks": ""
             }
            },
            "type": "scattergeo"
           }
          ],
          "scattergl": [
           {
            "marker": {
             "colorbar": {
              "outlinewidth": 0,
              "ticks": ""
             }
            },
            "type": "scattergl"
           }
          ],
          "scattermap": [
           {
            "marker": {
             "colorbar": {
              "outlinewidth": 0,
              "ticks": ""
             }
            },
            "type": "scattermap"
           }
          ],
          "scattermapbox": [
           {
            "marker": {
             "colorbar": {
              "outlinewidth": 0,
              "ticks": ""
             }
            },
            "type": "scattermapbox"
           }
          ],
          "scatterpolar": [
           {
            "marker": {
             "colorbar": {
              "outlinewidth": 0,
              "ticks": ""
             }
            },
            "type": "scatterpolar"
           }
          ],
          "scatterpolargl": [
           {
            "marker": {
             "colorbar": {
              "outlinewidth": 0,
              "ticks": ""
             }
            },
            "type": "scatterpolargl"
           }
          ],
          "scatterternary": [
           {
            "marker": {
             "colorbar": {
              "outlinewidth": 0,
              "ticks": ""
             }
            },
            "type": "scatterternary"
           }
          ],
          "surface": [
           {
            "colorbar": {
             "outlinewidth": 0,
             "ticks": ""
            },
            "colorscale": [
             [
              0,
              "#0d0887"
             ],
             [
              0.1111111111111111,
              "#46039f"
             ],
             [
              0.2222222222222222,
              "#7201a8"
             ],
             [
              0.3333333333333333,
              "#9c179e"
             ],
             [
              0.4444444444444444,
              "#bd3786"
             ],
             [
              0.5555555555555556,
              "#d8576b"
             ],
             [
              0.6666666666666666,
              "#ed7953"
             ],
             [
              0.7777777777777778,
              "#fb9f3a"
             ],
             [
              0.8888888888888888,
              "#fdca26"
             ],
             [
              1,
              "#f0f921"
             ]
            ],
            "type": "surface"
           }
          ],
          "table": [
           {
            "cells": {
             "fill": {
              "color": "#EBF0F8"
             },
             "line": {
              "color": "white"
             }
            },
            "header": {
             "fill": {
              "color": "#C8D4E3"
             },
             "line": {
              "color": "white"
             }
            },
            "type": "table"
           }
          ]
         },
         "layout": {
          "annotationdefaults": {
           "arrowcolor": "#2a3f5f",
           "arrowhead": 0,
           "arrowwidth": 1
          },
          "autotypenumbers": "strict",
          "coloraxis": {
           "colorbar": {
            "outlinewidth": 0,
            "ticks": ""
           }
          },
          "colorscale": {
           "diverging": [
            [
             0,
             "#8e0152"
            ],
            [
             0.1,
             "#c51b7d"
            ],
            [
             0.2,
             "#de77ae"
            ],
            [
             0.3,
             "#f1b6da"
            ],
            [
             0.4,
             "#fde0ef"
            ],
            [
             0.5,
             "#f7f7f7"
            ],
            [
             0.6,
             "#e6f5d0"
            ],
            [
             0.7,
             "#b8e186"
            ],
            [
             0.8,
             "#7fbc41"
            ],
            [
             0.9,
             "#4d9221"
            ],
            [
             1,
             "#276419"
            ]
           ],
           "sequential": [
            [
             0,
             "#0d0887"
            ],
            [
             0.1111111111111111,
             "#46039f"
            ],
            [
             0.2222222222222222,
             "#7201a8"
            ],
            [
             0.3333333333333333,
             "#9c179e"
            ],
            [
             0.4444444444444444,
             "#bd3786"
            ],
            [
             0.5555555555555556,
             "#d8576b"
            ],
            [
             0.6666666666666666,
             "#ed7953"
            ],
            [
             0.7777777777777778,
             "#fb9f3a"
            ],
            [
             0.8888888888888888,
             "#fdca26"
            ],
            [
             1,
             "#f0f921"
            ]
           ],
           "sequentialminus": [
            [
             0,
             "#0d0887"
            ],
            [
             0.1111111111111111,
             "#46039f"
            ],
            [
             0.2222222222222222,
             "#7201a8"
            ],
            [
             0.3333333333333333,
             "#9c179e"
            ],
            [
             0.4444444444444444,
             "#bd3786"
            ],
            [
             0.5555555555555556,
             "#d8576b"
            ],
            [
             0.6666666666666666,
             "#ed7953"
            ],
            [
             0.7777777777777778,
             "#fb9f3a"
            ],
            [
             0.8888888888888888,
             "#fdca26"
            ],
            [
             1,
             "#f0f921"
            ]
           ]
          },
          "colorway": [
           "#636efa",
           "#EF553B",
           "#00cc96",
           "#ab63fa",
           "#FFA15A",
           "#19d3f3",
           "#FF6692",
           "#B6E880",
           "#FF97FF",
           "#FECB52"
          ],
          "font": {
           "color": "#2a3f5f"
          },
          "geo": {
           "bgcolor": "white",
           "lakecolor": "white",
           "landcolor": "#E5ECF6",
           "showlakes": true,
           "showland": true,
           "subunitcolor": "white"
          },
          "hoverlabel": {
           "align": "left"
          },
          "hovermode": "closest",
          "mapbox": {
           "style": "light"
          },
          "paper_bgcolor": "white",
          "plot_bgcolor": "#E5ECF6",
          "polar": {
           "angularaxis": {
            "gridcolor": "white",
            "linecolor": "white",
            "ticks": ""
           },
           "bgcolor": "#E5ECF6",
           "radialaxis": {
            "gridcolor": "white",
            "linecolor": "white",
            "ticks": ""
           }
          },
          "scene": {
           "xaxis": {
            "backgroundcolor": "#E5ECF6",
            "gridcolor": "white",
            "gridwidth": 2,
            "linecolor": "white",
            "showbackground": true,
            "ticks": "",
            "zerolinecolor": "white"
           },
           "yaxis": {
            "backgroundcolor": "#E5ECF6",
            "gridcolor": "white",
            "gridwidth": 2,
            "linecolor": "white",
            "showbackground": true,
            "ticks": "",
            "zerolinecolor": "white"
           },
           "zaxis": {
            "backgroundcolor": "#E5ECF6",
            "gridcolor": "white",
            "gridwidth": 2,
            "linecolor": "white",
            "showbackground": true,
            "ticks": "",
            "zerolinecolor": "white"
           }
          },
          "shapedefaults": {
           "line": {
            "color": "#2a3f5f"
           }
          },
          "ternary": {
           "aaxis": {
            "gridcolor": "white",
            "linecolor": "white",
            "ticks": ""
           },
           "baxis": {
            "gridcolor": "white",
            "linecolor": "white",
            "ticks": ""
           },
           "bgcolor": "#E5ECF6",
           "caxis": {
            "gridcolor": "white",
            "linecolor": "white",
            "ticks": ""
           }
          },
          "title": {
           "x": 0.05
          },
          "xaxis": {
           "automargin": true,
           "gridcolor": "white",
           "linecolor": "white",
           "ticks": "",
           "title": {
            "standoff": 15
           },
           "zerolinecolor": "white",
           "zerolinewidth": 2
          },
          "yaxis": {
           "automargin": true,
           "gridcolor": "white",
           "linecolor": "white",
           "ticks": "",
           "title": {
            "standoff": 15
           },
           "zerolinecolor": "white",
           "zerolinewidth": 2
          }
         }
        },
        "title": {
         "text": "Number of Users by Visit Mode Across Continents"
        },
        "xaxis": {
         "anchor": "y",
         "domain": [
          0,
          1
         ],
         "title": {
          "text": "Continent"
         }
        },
        "yaxis": {
         "anchor": "x",
         "domain": [
          0,
          1
         ],
         "title": {
          "text": "Number of Users"
         }
        }
       }
      }
     },
     "metadata": {},
     "output_type": "display_data"
    }
   ],
   "source": [
    "fig = px.bar(\n",
    "    visit_mode_continent,\n",
    "    x=\"Continent\",\n",
    "    y=\"No_Of_Users\",\n",
    "    color=\"VisitMode\",\n",
    "    barmode=\"group\",\n",
    "    text=\"No_Of_Users\",\n",
    "    title=\"Number of Users by Visit Mode Across Continents\"\n",
    ")\n",
    "\n",
    "fig.update_layout(\n",
    "    xaxis_title=\"Continent\",\n",
    "    yaxis_title=\"Number of Users\",\n",
    "    legend_title=\"Visit Mode\",\n",
    "    bargap=0.2\n",
    ")\n",
    "\n",
    "fig.update_traces(textposition='outside')\n",
    "\n",
    "fig.show()"
   ]
  },
  {
   "cell_type": "markdown",
   "id": "c6c630e5",
   "metadata": {},
   "source": [
    "○\tAnalyze distribution of ratings across different attractions and regions."
   ]
  },
  {
   "cell_type": "code",
   "execution_count": 88,
   "id": "17a97ec1",
   "metadata": {},
   "outputs": [
    {
     "data": {
      "text/html": [
       "<div>\n",
       "<style scoped>\n",
       "    .dataframe tbody tr th:only-of-type {\n",
       "        vertical-align: middle;\n",
       "    }\n",
       "\n",
       "    .dataframe tbody tr th {\n",
       "        vertical-align: top;\n",
       "    }\n",
       "\n",
       "    .dataframe thead th {\n",
       "        text-align: right;\n",
       "    }\n",
       "</style>\n",
       "<table border=\"1\" class=\"dataframe\">\n",
       "  <thead>\n",
       "    <tr style=\"text-align: right;\">\n",
       "      <th></th>\n",
       "      <th>Region</th>\n",
       "      <th>Attraction</th>\n",
       "      <th>Rating</th>\n",
       "      <th>Average rating per user</th>\n",
       "    </tr>\n",
       "  </thead>\n",
       "  <tbody>\n",
       "    <tr>\n",
       "      <th>62222</th>\n",
       "      <td>Oceania</td>\n",
       "      <td>Yogyakarta Palace</td>\n",
       "      <td>1.0</td>\n",
       "      <td>0.875</td>\n",
       "    </tr>\n",
       "    <tr>\n",
       "      <th>0</th>\n",
       "      <td>South East Asia</td>\n",
       "      <td>Sacred Monkey Forest Sanctuary</td>\n",
       "      <td>1.0</td>\n",
       "      <td>1.000</td>\n",
       "    </tr>\n",
       "    <tr>\n",
       "      <th>1</th>\n",
       "      <td>South America</td>\n",
       "      <td>Sacred Monkey Forest Sanctuary</td>\n",
       "      <td>1.0</td>\n",
       "      <td>1.000</td>\n",
       "    </tr>\n",
       "    <tr>\n",
       "      <th>2</th>\n",
       "      <td>South America</td>\n",
       "      <td>Sacred Monkey Forest Sanctuary</td>\n",
       "      <td>1.0</td>\n",
       "      <td>1.000</td>\n",
       "    </tr>\n",
       "    <tr>\n",
       "      <th>62219</th>\n",
       "      <td>Oceania</td>\n",
       "      <td>Yogyakarta Palace</td>\n",
       "      <td>1.0</td>\n",
       "      <td>0.875</td>\n",
       "    </tr>\n",
       "    <tr>\n",
       "      <th>...</th>\n",
       "      <td>...</td>\n",
       "      <td>...</td>\n",
       "      <td>...</td>\n",
       "      <td>...</td>\n",
       "    </tr>\n",
       "    <tr>\n",
       "      <th>49284</th>\n",
       "      <td>Oceania</td>\n",
       "      <td>Kuta Beach - Bali</td>\n",
       "      <td>0.0</td>\n",
       "      <td>0.000</td>\n",
       "    </tr>\n",
       "    <tr>\n",
       "      <th>49283</th>\n",
       "      <td>Australia</td>\n",
       "      <td>Kuta Beach - Bali</td>\n",
       "      <td>0.0</td>\n",
       "      <td>0.750</td>\n",
       "    </tr>\n",
       "    <tr>\n",
       "      <th>62188</th>\n",
       "      <td>South America</td>\n",
       "      <td>Yogyakarta Palace</td>\n",
       "      <td>0.0</td>\n",
       "      <td>0.000</td>\n",
       "    </tr>\n",
       "    <tr>\n",
       "      <th>62184</th>\n",
       "      <td>South America</td>\n",
       "      <td>Yogyakarta Palace</td>\n",
       "      <td>0.0</td>\n",
       "      <td>0.000</td>\n",
       "    </tr>\n",
       "    <tr>\n",
       "      <th>62183</th>\n",
       "      <td>South America</td>\n",
       "      <td>Yogyakarta Palace</td>\n",
       "      <td>0.0</td>\n",
       "      <td>0.000</td>\n",
       "    </tr>\n",
       "  </tbody>\n",
       "</table>\n",
       "<p>62223 rows × 4 columns</p>\n",
       "</div>"
      ],
      "text/plain": [
       "                Region                      Attraction  Rating  \\\n",
       "62222          Oceania               Yogyakarta Palace     1.0   \n",
       "0      South East Asia  Sacred Monkey Forest Sanctuary     1.0   \n",
       "1        South America  Sacred Monkey Forest Sanctuary     1.0   \n",
       "2        South America  Sacred Monkey Forest Sanctuary     1.0   \n",
       "62219          Oceania               Yogyakarta Palace     1.0   \n",
       "...                ...                             ...     ...   \n",
       "49284          Oceania               Kuta Beach - Bali     0.0   \n",
       "49283        Australia               Kuta Beach - Bali     0.0   \n",
       "62188    South America               Yogyakarta Palace     0.0   \n",
       "62184    South America               Yogyakarta Palace     0.0   \n",
       "62183    South America               Yogyakarta Palace     0.0   \n",
       "\n",
       "       Average rating per user  \n",
       "62222                    0.875  \n",
       "0                        1.000  \n",
       "1                        1.000  \n",
       "2                        1.000  \n",
       "62219                    0.875  \n",
       "...                        ...  \n",
       "49284                    0.000  \n",
       "49283                    0.750  \n",
       "62188                    0.000  \n",
       "62184                    0.000  \n",
       "62183                    0.000  \n",
       "\n",
       "[62223 rows x 4 columns]"
      ]
     },
     "execution_count": 88,
     "metadata": {},
     "output_type": "execute_result"
    }
   ],
   "source": [
    "Distribution_Rating = Tourism_data[['Region', 'Attraction','Rating','Average rating per user']]\n",
    "Distribution_Rating.sort_values(by='Rating', ascending=False)"
   ]
  },
  {
   "cell_type": "code",
   "execution_count": 90,
   "id": "b0184096",
   "metadata": {},
   "outputs": [
    {
     "data": {
      "text/html": [
       "<div>\n",
       "<style scoped>\n",
       "    .dataframe tbody tr th:only-of-type {\n",
       "        vertical-align: middle;\n",
       "    }\n",
       "\n",
       "    .dataframe tbody tr th {\n",
       "        vertical-align: top;\n",
       "    }\n",
       "\n",
       "    .dataframe thead th {\n",
       "        text-align: right;\n",
       "    }\n",
       "</style>\n",
       "<table border=\"1\" class=\"dataframe\">\n",
       "  <thead>\n",
       "    <tr style=\"text-align: right;\">\n",
       "      <th></th>\n",
       "      <th>Region</th>\n",
       "      <th>Attraction</th>\n",
       "      <th>Rating</th>\n",
       "      <th>Average rating per user</th>\n",
       "      <th>Total_Reviews</th>\n",
       "    </tr>\n",
       "  </thead>\n",
       "  <tbody>\n",
       "    <tr>\n",
       "      <th>0</th>\n",
       "      <td>South East Asia</td>\n",
       "      <td>Sacred Monkey Forest Sanctuary</td>\n",
       "      <td>1.00</td>\n",
       "      <td>1.000</td>\n",
       "      <td>626</td>\n",
       "    </tr>\n",
       "    <tr>\n",
       "      <th>1</th>\n",
       "      <td>South America</td>\n",
       "      <td>Sacred Monkey Forest Sanctuary</td>\n",
       "      <td>1.00</td>\n",
       "      <td>1.000</td>\n",
       "      <td>6869</td>\n",
       "    </tr>\n",
       "    <tr>\n",
       "      <th>2</th>\n",
       "      <td>South America</td>\n",
       "      <td>Sacred Monkey Forest Sanctuary</td>\n",
       "      <td>1.00</td>\n",
       "      <td>1.000</td>\n",
       "      <td>6869</td>\n",
       "    </tr>\n",
       "    <tr>\n",
       "      <th>3</th>\n",
       "      <td>South America</td>\n",
       "      <td>Sacred Monkey Forest Sanctuary</td>\n",
       "      <td>0.50</td>\n",
       "      <td>0.500</td>\n",
       "      <td>6869</td>\n",
       "    </tr>\n",
       "    <tr>\n",
       "      <th>4</th>\n",
       "      <td>South America</td>\n",
       "      <td>Sacred Monkey Forest Sanctuary</td>\n",
       "      <td>0.50</td>\n",
       "      <td>0.500</td>\n",
       "      <td>6869</td>\n",
       "    </tr>\n",
       "    <tr>\n",
       "      <th>...</th>\n",
       "      <td>...</td>\n",
       "      <td>...</td>\n",
       "      <td>...</td>\n",
       "      <td>...</td>\n",
       "      <td>...</td>\n",
       "    </tr>\n",
       "    <tr>\n",
       "      <th>62218</th>\n",
       "      <td>Oceania</td>\n",
       "      <td>Yogyakarta Palace</td>\n",
       "      <td>0.75</td>\n",
       "      <td>0.500</td>\n",
       "      <td>181</td>\n",
       "    </tr>\n",
       "    <tr>\n",
       "      <th>62219</th>\n",
       "      <td>Oceania</td>\n",
       "      <td>Yogyakarta Palace</td>\n",
       "      <td>1.00</td>\n",
       "      <td>0.875</td>\n",
       "      <td>181</td>\n",
       "    </tr>\n",
       "    <tr>\n",
       "      <th>62220</th>\n",
       "      <td>Oceania</td>\n",
       "      <td>Yogyakarta Palace</td>\n",
       "      <td>0.75</td>\n",
       "      <td>0.875</td>\n",
       "      <td>181</td>\n",
       "    </tr>\n",
       "    <tr>\n",
       "      <th>62221</th>\n",
       "      <td>Oceania</td>\n",
       "      <td>Yogyakarta Palace</td>\n",
       "      <td>0.75</td>\n",
       "      <td>0.875</td>\n",
       "      <td>181</td>\n",
       "    </tr>\n",
       "    <tr>\n",
       "      <th>62222</th>\n",
       "      <td>Oceania</td>\n",
       "      <td>Yogyakarta Palace</td>\n",
       "      <td>1.00</td>\n",
       "      <td>0.875</td>\n",
       "      <td>181</td>\n",
       "    </tr>\n",
       "  </tbody>\n",
       "</table>\n",
       "<p>62223 rows × 5 columns</p>\n",
       "</div>"
      ],
      "text/plain": [
       "                Region                      Attraction  Rating  \\\n",
       "0      South East Asia  Sacred Monkey Forest Sanctuary    1.00   \n",
       "1        South America  Sacred Monkey Forest Sanctuary    1.00   \n",
       "2        South America  Sacred Monkey Forest Sanctuary    1.00   \n",
       "3        South America  Sacred Monkey Forest Sanctuary    0.50   \n",
       "4        South America  Sacred Monkey Forest Sanctuary    0.50   \n",
       "...                ...                             ...     ...   \n",
       "62218          Oceania               Yogyakarta Palace    0.75   \n",
       "62219          Oceania               Yogyakarta Palace    1.00   \n",
       "62220          Oceania               Yogyakarta Palace    0.75   \n",
       "62221          Oceania               Yogyakarta Palace    0.75   \n",
       "62222          Oceania               Yogyakarta Palace    1.00   \n",
       "\n",
       "       Average rating per user  Total_Reviews  \n",
       "0                        1.000            626  \n",
       "1                        1.000           6869  \n",
       "2                        1.000           6869  \n",
       "3                        0.500           6869  \n",
       "4                        0.500           6869  \n",
       "...                        ...            ...  \n",
       "62218                    0.500            181  \n",
       "62219                    0.875            181  \n",
       "62220                    0.875            181  \n",
       "62221                    0.875            181  \n",
       "62222                    0.875            181  \n",
       "\n",
       "[62223 rows x 5 columns]"
      ]
     },
     "execution_count": 90,
     "metadata": {},
     "output_type": "execute_result"
    }
   ],
   "source": [
    "# First, group and aggregate\n",
    "rating_counts = Distribution_Rating.groupby(['Region', 'Attraction'])['Rating'].count().reset_index()\n",
    "rating_counts.columns = ['Region', 'Attraction', 'Total_Reviews']\n",
    "\n",
    "# Now merge back into the original Distribution_Rating DataFrame\n",
    "Distribution_Ratings = pd.merge(Distribution_Rating, rating_counts, on=['Region', 'Attraction'], how='left')\n",
    "Distribution_Ratings"
   ]
  },
  {
   "cell_type": "code",
   "execution_count": 96,
   "id": "2864036d",
   "metadata": {},
   "outputs": [
    {
     "data": {
      "text/html": [
       "<div>\n",
       "<style scoped>\n",
       "    .dataframe tbody tr th:only-of-type {\n",
       "        vertical-align: middle;\n",
       "    }\n",
       "\n",
       "    .dataframe tbody tr th {\n",
       "        vertical-align: top;\n",
       "    }\n",
       "\n",
       "    .dataframe thead th {\n",
       "        text-align: right;\n",
       "    }\n",
       "</style>\n",
       "<table border=\"1\" class=\"dataframe\">\n",
       "  <thead>\n",
       "    <tr style=\"text-align: right;\">\n",
       "      <th></th>\n",
       "      <th>Region</th>\n",
       "      <th>Attraction</th>\n",
       "      <th>Rating</th>\n",
       "      <th>Average rating per user</th>\n",
       "      <th>Total_Reviews</th>\n",
       "    </tr>\n",
       "  </thead>\n",
       "  <tbody>\n",
       "    <tr>\n",
       "      <th>0</th>\n",
       "      <td>South East Asia</td>\n",
       "      <td>Sacred Monkey Forest Sanctuary</td>\n",
       "      <td>1.0</td>\n",
       "      <td>1.000000</td>\n",
       "      <td>626</td>\n",
       "    </tr>\n",
       "    <tr>\n",
       "      <th>1</th>\n",
       "      <td>South America</td>\n",
       "      <td>Sacred Monkey Forest Sanctuary</td>\n",
       "      <td>1.0</td>\n",
       "      <td>1.000000</td>\n",
       "      <td>6869</td>\n",
       "    </tr>\n",
       "    <tr>\n",
       "      <th>2</th>\n",
       "      <td>South America</td>\n",
       "      <td>Sacred Monkey Forest Sanctuary</td>\n",
       "      <td>1.0</td>\n",
       "      <td>1.000000</td>\n",
       "      <td>6869</td>\n",
       "    </tr>\n",
       "    <tr>\n",
       "      <th>5</th>\n",
       "      <td>South America</td>\n",
       "      <td>Sacred Monkey Forest Sanctuary</td>\n",
       "      <td>1.0</td>\n",
       "      <td>1.000000</td>\n",
       "      <td>6869</td>\n",
       "    </tr>\n",
       "    <tr>\n",
       "      <th>7</th>\n",
       "      <td>Oceania</td>\n",
       "      <td>Sacred Monkey Forest Sanctuary</td>\n",
       "      <td>1.0</td>\n",
       "      <td>1.000000</td>\n",
       "      <td>2794</td>\n",
       "    </tr>\n",
       "    <tr>\n",
       "      <th>...</th>\n",
       "      <td>...</td>\n",
       "      <td>...</td>\n",
       "      <td>...</td>\n",
       "      <td>...</td>\n",
       "      <td>...</td>\n",
       "    </tr>\n",
       "    <tr>\n",
       "      <th>156</th>\n",
       "      <td>Oceania</td>\n",
       "      <td>Sacred Monkey Forest Sanctuary</td>\n",
       "      <td>1.0</td>\n",
       "      <td>0.937500</td>\n",
       "      <td>2794</td>\n",
       "    </tr>\n",
       "    <tr>\n",
       "      <th>158</th>\n",
       "      <td>Northern America</td>\n",
       "      <td>Sacred Monkey Forest Sanctuary</td>\n",
       "      <td>1.0</td>\n",
       "      <td>1.000000</td>\n",
       "      <td>834</td>\n",
       "    </tr>\n",
       "    <tr>\n",
       "      <th>160</th>\n",
       "      <td>Northern America</td>\n",
       "      <td>Sacred Monkey Forest Sanctuary</td>\n",
       "      <td>1.0</td>\n",
       "      <td>0.916667</td>\n",
       "      <td>834</td>\n",
       "    </tr>\n",
       "    <tr>\n",
       "      <th>161</th>\n",
       "      <td>Middle East</td>\n",
       "      <td>Sacred Monkey Forest Sanctuary</td>\n",
       "      <td>1.0</td>\n",
       "      <td>1.000000</td>\n",
       "      <td>990</td>\n",
       "    </tr>\n",
       "    <tr>\n",
       "      <th>163</th>\n",
       "      <td>South America</td>\n",
       "      <td>Sacred Monkey Forest Sanctuary</td>\n",
       "      <td>1.0</td>\n",
       "      <td>1.000000</td>\n",
       "      <td>6869</td>\n",
       "    </tr>\n",
       "  </tbody>\n",
       "</table>\n",
       "<p>100 rows × 5 columns</p>\n",
       "</div>"
      ],
      "text/plain": [
       "               Region                      Attraction  Rating  \\\n",
       "0     South East Asia  Sacred Monkey Forest Sanctuary     1.0   \n",
       "1       South America  Sacred Monkey Forest Sanctuary     1.0   \n",
       "2       South America  Sacred Monkey Forest Sanctuary     1.0   \n",
       "5       South America  Sacred Monkey Forest Sanctuary     1.0   \n",
       "7             Oceania  Sacred Monkey Forest Sanctuary     1.0   \n",
       "..                ...                             ...     ...   \n",
       "156           Oceania  Sacred Monkey Forest Sanctuary     1.0   \n",
       "158  Northern America  Sacred Monkey Forest Sanctuary     1.0   \n",
       "160  Northern America  Sacred Monkey Forest Sanctuary     1.0   \n",
       "161       Middle East  Sacred Monkey Forest Sanctuary     1.0   \n",
       "163     South America  Sacred Monkey Forest Sanctuary     1.0   \n",
       "\n",
       "     Average rating per user  Total_Reviews  \n",
       "0                   1.000000            626  \n",
       "1                   1.000000           6869  \n",
       "2                   1.000000           6869  \n",
       "5                   1.000000           6869  \n",
       "7                   1.000000           2794  \n",
       "..                       ...            ...  \n",
       "156                 0.937500           2794  \n",
       "158                 1.000000            834  \n",
       "160                 0.916667            834  \n",
       "161                 1.000000            990  \n",
       "163                 1.000000           6869  \n",
       "\n",
       "[100 rows x 5 columns]"
      ]
     },
     "execution_count": 96,
     "metadata": {},
     "output_type": "execute_result"
    }
   ],
   "source": [
    "Top10_Distribution_Ratings =  Distribution_Ratings.nlargest(100, 'Rating')\n",
    "Top10_Distribution_Ratings"
   ]
  },
  {
   "cell_type": "code",
   "execution_count": 98,
   "id": "bf33731c",
   "metadata": {},
   "outputs": [
    {
     "data": {
      "application/vnd.plotly.v1+json": {
       "config": {
        "plotlyServerURL": "https://plot.ly"
       },
       "data": [
        {
         "hovertemplate": "<b>%{hovertext}</b><br><br>Region=%{x}<br>Average rating per user=%{y}<br>Total_Reviews=%{marker.size}<extra></extra>",
         "hovertext": [
          "Sacred Monkey Forest Sanctuary",
          "Sacred Monkey Forest Sanctuary",
          "Sacred Monkey Forest Sanctuary",
          "Sacred Monkey Forest Sanctuary",
          "Sacred Monkey Forest Sanctuary"
         ],
         "legendgroup": "South East Asia",
         "marker": {
          "color": "#636efa",
          "size": {
           "bdata": "cgJyAnICcgJyAg==",
           "dtype": "i2"
          },
          "sizemode": "area",
          "sizeref": 17.1725,
          "symbol": "circle"
         },
         "mode": "markers",
         "name": "South East Asia",
         "orientation": "v",
         "showlegend": true,
         "type": "scatter",
         "x": [
          "South East Asia",
          "South East Asia",
          "South East Asia",
          "South East Asia",
          "South East Asia"
         ],
         "xaxis": "x",
         "y": {
          "bdata": "AAAAAAAA8D8AAAAAAADwPwAAAAAAAPA/AAAAAAAA8D8AAAAAAADwPw==",
          "dtype": "f8"
         },
         "yaxis": "y"
        },
        {
         "hovertemplate": "<b>%{hovertext}</b><br><br>Region=%{x}<br>Average rating per user=%{y}<br>Total_Reviews=%{marker.size}<extra></extra>",
         "hovertext": [
          "Sacred Monkey Forest Sanctuary",
          "Sacred Monkey Forest Sanctuary",
          "Sacred Monkey Forest Sanctuary",
          "Sacred Monkey Forest Sanctuary",
          "Sacred Monkey Forest Sanctuary",
          "Sacred Monkey Forest Sanctuary",
          "Sacred Monkey Forest Sanctuary",
          "Sacred Monkey Forest Sanctuary",
          "Sacred Monkey Forest Sanctuary",
          "Sacred Monkey Forest Sanctuary",
          "Sacred Monkey Forest Sanctuary",
          "Sacred Monkey Forest Sanctuary",
          "Sacred Monkey Forest Sanctuary",
          "Sacred Monkey Forest Sanctuary",
          "Sacred Monkey Forest Sanctuary",
          "Sacred Monkey Forest Sanctuary",
          "Sacred Monkey Forest Sanctuary",
          "Sacred Monkey Forest Sanctuary",
          "Sacred Monkey Forest Sanctuary",
          "Sacred Monkey Forest Sanctuary",
          "Sacred Monkey Forest Sanctuary",
          "Sacred Monkey Forest Sanctuary",
          "Sacred Monkey Forest Sanctuary",
          "Sacred Monkey Forest Sanctuary",
          "Sacred Monkey Forest Sanctuary",
          "Sacred Monkey Forest Sanctuary",
          "Sacred Monkey Forest Sanctuary",
          "Sacred Monkey Forest Sanctuary",
          "Sacred Monkey Forest Sanctuary",
          "Sacred Monkey Forest Sanctuary",
          "Sacred Monkey Forest Sanctuary",
          "Sacred Monkey Forest Sanctuary",
          "Sacred Monkey Forest Sanctuary",
          "Sacred Monkey Forest Sanctuary",
          "Sacred Monkey Forest Sanctuary",
          "Sacred Monkey Forest Sanctuary",
          "Sacred Monkey Forest Sanctuary",
          "Sacred Monkey Forest Sanctuary",
          "Sacred Monkey Forest Sanctuary",
          "Sacred Monkey Forest Sanctuary",
          "Sacred Monkey Forest Sanctuary",
          "Sacred Monkey Forest Sanctuary",
          "Sacred Monkey Forest Sanctuary",
          "Sacred Monkey Forest Sanctuary",
          "Sacred Monkey Forest Sanctuary",
          "Sacred Monkey Forest Sanctuary",
          "Sacred Monkey Forest Sanctuary",
          "Sacred Monkey Forest Sanctuary",
          "Sacred Monkey Forest Sanctuary"
         ],
         "legendgroup": "South America",
         "marker": {
          "color": "#EF553B",
          "size": {
           "bdata": "1RrVGtUa1RrVGtUa1RrVGtUa1RrVGtUa1RrVGtUa1RrVGtUa1RrVGtUa1RrVGtUa1RrVGtUa1RrVGtUa1RrVGtUa1RrVGtUa1RrVGtUa1RrVGtUa1RrVGtUa1RrVGtUa1Ro=",
           "dtype": "i2"
          },
          "sizemode": "area",
          "sizeref": 17.1725,
          "symbol": "circle"
         },
         "mode": "markers",
         "name": "South America",
         "orientation": "v",
         "showlegend": true,
         "type": "scatter",
         "x": [
          "South America",
          "South America",
          "South America",
          "South America",
          "South America",
          "South America",
          "South America",
          "South America",
          "South America",
          "South America",
          "South America",
          "South America",
          "South America",
          "South America",
          "South America",
          "South America",
          "South America",
          "South America",
          "South America",
          "South America",
          "South America",
          "South America",
          "South America",
          "South America",
          "South America",
          "South America",
          "South America",
          "South America",
          "South America",
          "South America",
          "South America",
          "South America",
          "South America",
          "South America",
          "South America",
          "South America",
          "South America",
          "South America",
          "South America",
          "South America",
          "South America",
          "South America",
          "South America",
          "South America",
          "South America",
          "South America",
          "South America",
          "South America",
          "South America"
         ],
         "xaxis": "x",
         "y": {
          "bdata": "AAAAAAAA8D8AAAAAAADwPwAAAAAAAPA/AAAAAAAA8D8AAAAAAADoPwAAAAAAAPA/AAAAAAAA8D8AAAAAAADwPwAAAAAAAPA/AAAAAAAA8D8AAAAAAADwPwAAAAAAAPA/ZmZmZmZm7j8AAAAAAADwPwAAAAAAAPA/AAAAAAAA8D/MzMzMzMzsP8zMzMzMzOw/AAAAAAAA8D8AAAAAAADwPwAAAAAAAPA/AAAAAAAA8D8AAAAAAADwPwAAAAAAAPA/AAAAAAAA8D8AAAAAAADwPwAAAAAAAPA/AAAAAAAA8D8AAAAAAADsPwAAAAAAAOw/AAAAAAAA8D8AAAAAAADwP1dVVVVVVe0/V1VVVVVV7T9XVVVVVVXtPwAAAAAAAPA/AAAAAAAA8D8AAAAAAADwPwAAAAAAAPA/AAAAAAAA8D8AAAAAAADwPwAAAAAAAOw/AAAAAAAA8D8AAAAAAADwPwAAAAAAAPA/AAAAAAAA8D8AAAAAAADwPwAAAAAAAPA/AAAAAAAA8D8=",
          "dtype": "f8"
         },
         "yaxis": "y"
        },
        {
         "hovertemplate": "<b>%{hovertext}</b><br><br>Region=%{x}<br>Average rating per user=%{y}<br>Total_Reviews=%{marker.size}<extra></extra>",
         "hovertext": [
          "Sacred Monkey Forest Sanctuary",
          "Sacred Monkey Forest Sanctuary",
          "Sacred Monkey Forest Sanctuary",
          "Sacred Monkey Forest Sanctuary",
          "Sacred Monkey Forest Sanctuary",
          "Sacred Monkey Forest Sanctuary",
          "Sacred Monkey Forest Sanctuary",
          "Sacred Monkey Forest Sanctuary",
          "Sacred Monkey Forest Sanctuary",
          "Sacred Monkey Forest Sanctuary",
          "Sacred Monkey Forest Sanctuary",
          "Sacred Monkey Forest Sanctuary",
          "Sacred Monkey Forest Sanctuary",
          "Sacred Monkey Forest Sanctuary",
          "Sacred Monkey Forest Sanctuary",
          "Sacred Monkey Forest Sanctuary",
          "Sacred Monkey Forest Sanctuary",
          "Sacred Monkey Forest Sanctuary"
         ],
         "legendgroup": "Oceania",
         "marker": {
          "color": "#00cc96",
          "size": {
           "bdata": "6grqCuoK6grqCuoK6grqCuoK6grqCuoK6grqCuoK6grqCuoK",
           "dtype": "i2"
          },
          "sizemode": "area",
          "sizeref": 17.1725,
          "symbol": "circle"
         },
         "mode": "markers",
         "name": "Oceania",
         "orientation": "v",
         "showlegend": true,
         "type": "scatter",
         "x": [
          "Oceania",
          "Oceania",
          "Oceania",
          "Oceania",
          "Oceania",
          "Oceania",
          "Oceania",
          "Oceania",
          "Oceania",
          "Oceania",
          "Oceania",
          "Oceania",
          "Oceania",
          "Oceania",
          "Oceania",
          "Oceania",
          "Oceania",
          "Oceania"
         ],
         "xaxis": "x",
         "y": {
          "bdata": "AAAAAAAA8D9XVVVVVVXtP1dVVVVVVe0/AAAAAAAA7D8AAAAAAADwPwAAAAAAAPA/AAAAAAAA8D8AAAAAAADwPwAAAAAAAOg/AAAAAAAA8D8AAAAAAADsPwAAAAAAAPA/AAAAAAAA8D8AAAAAAADwPwAAAAAAAPA/AAAAAAAA8D8AAAAAAADuPwAAAAAAAO4/",
          "dtype": "f8"
         },
         "yaxis": "y"
        },
        {
         "hovertemplate": "<b>%{hovertext}</b><br><br>Region=%{x}<br>Average rating per user=%{y}<br>Total_Reviews=%{marker.size}<extra></extra>",
         "hovertext": [
          "Sacred Monkey Forest Sanctuary",
          "Sacred Monkey Forest Sanctuary",
          "Sacred Monkey Forest Sanctuary"
         ],
         "legendgroup": "North Africa",
         "marker": {
          "color": "#ab63fa",
          "size": {
           "bdata": "c3Nz",
           "dtype": "i1"
          },
          "sizemode": "area",
          "sizeref": 17.1725,
          "symbol": "circle"
         },
         "mode": "markers",
         "name": "North Africa",
         "orientation": "v",
         "showlegend": true,
         "type": "scatter",
         "x": [
          "North Africa",
          "North Africa",
          "North Africa"
         ],
         "xaxis": "x",
         "y": {
          "bdata": "27Zt27Zt5z/btm3btm3nP9u2bdu2bec/",
          "dtype": "f8"
         },
         "yaxis": "y"
        },
        {
         "hovertemplate": "<b>%{hovertext}</b><br><br>Region=%{x}<br>Average rating per user=%{y}<br>Total_Reviews=%{marker.size}<extra></extra>",
         "hovertext": [
          "Sacred Monkey Forest Sanctuary",
          "Sacred Monkey Forest Sanctuary",
          "Sacred Monkey Forest Sanctuary",
          "Sacred Monkey Forest Sanctuary",
          "Sacred Monkey Forest Sanctuary",
          "Sacred Monkey Forest Sanctuary"
         ],
         "legendgroup": "Australia",
         "marker": {
          "color": "#FFA15A",
          "size": {
           "bdata": "5QXlBeUF5QXlBeUF",
           "dtype": "i2"
          },
          "sizemode": "area",
          "sizeref": 17.1725,
          "symbol": "circle"
         },
         "mode": "markers",
         "name": "Australia",
         "orientation": "v",
         "showlegend": true,
         "type": "scatter",
         "x": [
          "Australia",
          "Australia",
          "Australia",
          "Australia",
          "Australia",
          "Australia"
         ],
         "xaxis": "x",
         "y": {
          "bdata": "AAAAAAAA8D8AAAAAAADwPwAAAAAAAPA/AAAAAAAA8D8AAAAAAADwPwAAAAAAAPA/",
          "dtype": "f8"
         },
         "yaxis": "y"
        },
        {
         "hovertemplate": "<b>%{hovertext}</b><br><br>Region=%{x}<br>Average rating per user=%{y}<br>Total_Reviews=%{marker.size}<extra></extra>",
         "hovertext": [
          "Sacred Monkey Forest Sanctuary",
          "Sacred Monkey Forest Sanctuary",
          "Sacred Monkey Forest Sanctuary",
          "Sacred Monkey Forest Sanctuary"
         ],
         "legendgroup": "West Africa",
         "marker": {
          "color": "#19d3f3",
          "size": {
           "bdata": "8wDzAPMA8wA=",
           "dtype": "i2"
          },
          "sizemode": "area",
          "sizeref": 17.1725,
          "symbol": "circle"
         },
         "mode": "markers",
         "name": "West Africa",
         "orientation": "v",
         "showlegend": true,
         "type": "scatter",
         "x": [
          "West Africa",
          "West Africa",
          "West Africa",
          "West Africa"
         ],
         "xaxis": "x",
         "y": {
          "bdata": "AAAAAAAA8D+66KKLLrroP7rooosuuug/uuiiiy666D8=",
          "dtype": "f8"
         },
         "yaxis": "y"
        },
        {
         "hovertemplate": "<b>%{hovertext}</b><br><br>Region=%{x}<br>Average rating per user=%{y}<br>Total_Reviews=%{marker.size}<extra></extra>",
         "hovertext": [
          "Sacred Monkey Forest Sanctuary",
          "Sacred Monkey Forest Sanctuary"
         ],
         "legendgroup": "Central Europe",
         "marker": {
          "color": "#FF6692",
          "size": {
           "bdata": "ogCiAA==",
           "dtype": "i2"
          },
          "sizemode": "area",
          "sizeref": 17.1725,
          "symbol": "circle"
         },
         "mode": "markers",
         "name": "Central Europe",
         "orientation": "v",
         "showlegend": true,
         "type": "scatter",
         "x": [
          "Central Europe",
          "Central Europe"
         ],
         "xaxis": "x",
         "y": {
          "bdata": "AAAAAAAA6D8AAAAAAADoPw==",
          "dtype": "f8"
         },
         "yaxis": "y"
        },
        {
         "hovertemplate": "<b>%{hovertext}</b><br><br>Region=%{x}<br>Average rating per user=%{y}<br>Total_Reviews=%{marker.size}<extra></extra>",
         "hovertext": [
          "Sacred Monkey Forest Sanctuary",
          "Sacred Monkey Forest Sanctuary",
          "Sacred Monkey Forest Sanctuary"
         ],
         "legendgroup": "South Asia",
         "marker": {
          "color": "#B6E880",
          "size": {
           "bdata": "MAIwAjAC",
           "dtype": "i2"
          },
          "sizemode": "area",
          "sizeref": 17.1725,
          "symbol": "circle"
         },
         "mode": "markers",
         "name": "South Asia",
         "orientation": "v",
         "showlegend": true,
         "type": "scatter",
         "x": [
          "South Asia",
          "South Asia",
          "South Asia"
         ],
         "xaxis": "x",
         "y": {
          "bdata": "AAAAAAAA8D8AAAAAAADwP6qqqqqqquo/",
          "dtype": "f8"
         },
         "yaxis": "y"
        },
        {
         "hovertemplate": "<b>%{hovertext}</b><br><br>Region=%{x}<br>Average rating per user=%{y}<br>Total_Reviews=%{marker.size}<extra></extra>",
         "hovertext": [
          "Sacred Monkey Forest Sanctuary",
          "Sacred Monkey Forest Sanctuary",
          "Sacred Monkey Forest Sanctuary",
          "Sacred Monkey Forest Sanctuary"
         ],
         "legendgroup": "Central America",
         "marker": {
          "color": "#FF97FF",
          "size": {
           "bdata": "zgDOAM4AzgA=",
           "dtype": "i2"
          },
          "sizemode": "area",
          "sizeref": 17.1725,
          "symbol": "circle"
         },
         "mode": "markers",
         "name": "Central America",
         "orientation": "v",
         "showlegend": true,
         "type": "scatter",
         "x": [
          "Central America",
          "Central America",
          "Central America",
          "Central America"
         ],
         "xaxis": "x",
         "y": {
          "bdata": "AAAAAAAA7j8AAAAAAADuP1VVVVVVVeU/VVVVVVVV5T8=",
          "dtype": "f8"
         },
         "yaxis": "y"
        },
        {
         "hovertemplate": "<b>%{hovertext}</b><br><br>Region=%{x}<br>Average rating per user=%{y}<br>Total_Reviews=%{marker.size}<extra></extra>",
         "hovertext": [
          "Sacred Monkey Forest Sanctuary",
          "Sacred Monkey Forest Sanctuary"
         ],
         "legendgroup": "Middle East",
         "marker": {
          "color": "#FECB52",
          "size": {
           "bdata": "3gPeAw==",
           "dtype": "i2"
          },
          "sizemode": "area",
          "sizeref": 17.1725,
          "symbol": "circle"
         },
         "mode": "markers",
         "name": "Middle East",
         "orientation": "v",
         "showlegend": true,
         "type": "scatter",
         "x": [
          "Middle East",
          "Middle East"
         ],
         "xaxis": "x",
         "y": {
          "bdata": "AAAAAAAA8D8AAAAAAADwPw==",
          "dtype": "f8"
         },
         "yaxis": "y"
        },
        {
         "hovertemplate": "<b>%{hovertext}</b><br><br>Region=%{x}<br>Average rating per user=%{y}<br>Total_Reviews=%{marker.size}<extra></extra>",
         "hovertext": [
          "Sacred Monkey Forest Sanctuary",
          "Sacred Monkey Forest Sanctuary",
          "Sacred Monkey Forest Sanctuary",
          "Sacred Monkey Forest Sanctuary"
         ],
         "legendgroup": "Northern America",
         "marker": {
          "color": "#636efa",
          "size": {
           "bdata": "QgNCA0IDQgM=",
           "dtype": "i2"
          },
          "sizemode": "area",
          "sizeref": 17.1725,
          "symbol": "circle"
         },
         "mode": "markers",
         "name": "Northern America",
         "orientation": "v",
         "showlegend": true,
         "type": "scatter",
         "x": [
          "Northern America",
          "Northern America",
          "Northern America",
          "Northern America"
         ],
         "xaxis": "x",
         "y": {
          "bdata": "V1VVVVVV7T9XVVVVVVXtPwAAAAAAAPA/V1VVVVVV7T8=",
          "dtype": "f8"
         },
         "yaxis": "y"
        }
       ],
       "layout": {
        "legend": {
         "itemsizing": "constant",
         "title": {
          "text": "Region"
         },
         "tracegroupgap": 0
        },
        "template": {
         "data": {
          "bar": [
           {
            "error_x": {
             "color": "#2a3f5f"
            },
            "error_y": {
             "color": "#2a3f5f"
            },
            "marker": {
             "line": {
              "color": "white",
              "width": 0.5
             },
             "pattern": {
              "fillmode": "overlay",
              "size": 10,
              "solidity": 0.2
             }
            },
            "type": "bar"
           }
          ],
          "barpolar": [
           {
            "marker": {
             "line": {
              "color": "white",
              "width": 0.5
             },
             "pattern": {
              "fillmode": "overlay",
              "size": 10,
              "solidity": 0.2
             }
            },
            "type": "barpolar"
           }
          ],
          "carpet": [
           {
            "aaxis": {
             "endlinecolor": "#2a3f5f",
             "gridcolor": "#C8D4E3",
             "linecolor": "#C8D4E3",
             "minorgridcolor": "#C8D4E3",
             "startlinecolor": "#2a3f5f"
            },
            "baxis": {
             "endlinecolor": "#2a3f5f",
             "gridcolor": "#C8D4E3",
             "linecolor": "#C8D4E3",
             "minorgridcolor": "#C8D4E3",
             "startlinecolor": "#2a3f5f"
            },
            "type": "carpet"
           }
          ],
          "choropleth": [
           {
            "colorbar": {
             "outlinewidth": 0,
             "ticks": ""
            },
            "type": "choropleth"
           }
          ],
          "contour": [
           {
            "colorbar": {
             "outlinewidth": 0,
             "ticks": ""
            },
            "colorscale": [
             [
              0,
              "#0d0887"
             ],
             [
              0.1111111111111111,
              "#46039f"
             ],
             [
              0.2222222222222222,
              "#7201a8"
             ],
             [
              0.3333333333333333,
              "#9c179e"
             ],
             [
              0.4444444444444444,
              "#bd3786"
             ],
             [
              0.5555555555555556,
              "#d8576b"
             ],
             [
              0.6666666666666666,
              "#ed7953"
             ],
             [
              0.7777777777777778,
              "#fb9f3a"
             ],
             [
              0.8888888888888888,
              "#fdca26"
             ],
             [
              1,
              "#f0f921"
             ]
            ],
            "type": "contour"
           }
          ],
          "contourcarpet": [
           {
            "colorbar": {
             "outlinewidth": 0,
             "ticks": ""
            },
            "type": "contourcarpet"
           }
          ],
          "heatmap": [
           {
            "colorbar": {
             "outlinewidth": 0,
             "ticks": ""
            },
            "colorscale": [
             [
              0,
              "#0d0887"
             ],
             [
              0.1111111111111111,
              "#46039f"
             ],
             [
              0.2222222222222222,
              "#7201a8"
             ],
             [
              0.3333333333333333,
              "#9c179e"
             ],
             [
              0.4444444444444444,
              "#bd3786"
             ],
             [
              0.5555555555555556,
              "#d8576b"
             ],
             [
              0.6666666666666666,
              "#ed7953"
             ],
             [
              0.7777777777777778,
              "#fb9f3a"
             ],
             [
              0.8888888888888888,
              "#fdca26"
             ],
             [
              1,
              "#f0f921"
             ]
            ],
            "type": "heatmap"
           }
          ],
          "histogram": [
           {
            "marker": {
             "pattern": {
              "fillmode": "overlay",
              "size": 10,
              "solidity": 0.2
             }
            },
            "type": "histogram"
           }
          ],
          "histogram2d": [
           {
            "colorbar": {
             "outlinewidth": 0,
             "ticks": ""
            },
            "colorscale": [
             [
              0,
              "#0d0887"
             ],
             [
              0.1111111111111111,
              "#46039f"
             ],
             [
              0.2222222222222222,
              "#7201a8"
             ],
             [
              0.3333333333333333,
              "#9c179e"
             ],
             [
              0.4444444444444444,
              "#bd3786"
             ],
             [
              0.5555555555555556,
              "#d8576b"
             ],
             [
              0.6666666666666666,
              "#ed7953"
             ],
             [
              0.7777777777777778,
              "#fb9f3a"
             ],
             [
              0.8888888888888888,
              "#fdca26"
             ],
             [
              1,
              "#f0f921"
             ]
            ],
            "type": "histogram2d"
           }
          ],
          "histogram2dcontour": [
           {
            "colorbar": {
             "outlinewidth": 0,
             "ticks": ""
            },
            "colorscale": [
             [
              0,
              "#0d0887"
             ],
             [
              0.1111111111111111,
              "#46039f"
             ],
             [
              0.2222222222222222,
              "#7201a8"
             ],
             [
              0.3333333333333333,
              "#9c179e"
             ],
             [
              0.4444444444444444,
              "#bd3786"
             ],
             [
              0.5555555555555556,
              "#d8576b"
             ],
             [
              0.6666666666666666,
              "#ed7953"
             ],
             [
              0.7777777777777778,
              "#fb9f3a"
             ],
             [
              0.8888888888888888,
              "#fdca26"
             ],
             [
              1,
              "#f0f921"
             ]
            ],
            "type": "histogram2dcontour"
           }
          ],
          "mesh3d": [
           {
            "colorbar": {
             "outlinewidth": 0,
             "ticks": ""
            },
            "type": "mesh3d"
           }
          ],
          "parcoords": [
           {
            "line": {
             "colorbar": {
              "outlinewidth": 0,
              "ticks": ""
             }
            },
            "type": "parcoords"
           }
          ],
          "pie": [
           {
            "automargin": true,
            "type": "pie"
           }
          ],
          "scatter": [
           {
            "fillpattern": {
             "fillmode": "overlay",
             "size": 10,
             "solidity": 0.2
            },
            "type": "scatter"
           }
          ],
          "scatter3d": [
           {
            "line": {
             "colorbar": {
              "outlinewidth": 0,
              "ticks": ""
             }
            },
            "marker": {
             "colorbar": {
              "outlinewidth": 0,
              "ticks": ""
             }
            },
            "type": "scatter3d"
           }
          ],
          "scattercarpet": [
           {
            "marker": {
             "colorbar": {
              "outlinewidth": 0,
              "ticks": ""
             }
            },
            "type": "scattercarpet"
           }
          ],
          "scattergeo": [
           {
            "marker": {
             "colorbar": {
              "outlinewidth": 0,
              "ticks": ""
             }
            },
            "type": "scattergeo"
           }
          ],
          "scattergl": [
           {
            "marker": {
             "colorbar": {
              "outlinewidth": 0,
              "ticks": ""
             }
            },
            "type": "scattergl"
           }
          ],
          "scattermap": [
           {
            "marker": {
             "colorbar": {
              "outlinewidth": 0,
              "ticks": ""
             }
            },
            "type": "scattermap"
           }
          ],
          "scattermapbox": [
           {
            "marker": {
             "colorbar": {
              "outlinewidth": 0,
              "ticks": ""
             }
            },
            "type": "scattermapbox"
           }
          ],
          "scatterpolar": [
           {
            "marker": {
             "colorbar": {
              "outlinewidth": 0,
              "ticks": ""
             }
            },
            "type": "scatterpolar"
           }
          ],
          "scatterpolargl": [
           {
            "marker": {
             "colorbar": {
              "outlinewidth": 0,
              "ticks": ""
             }
            },
            "type": "scatterpolargl"
           }
          ],
          "scatterternary": [
           {
            "marker": {
             "colorbar": {
              "outlinewidth": 0,
              "ticks": ""
             }
            },
            "type": "scatterternary"
           }
          ],
          "surface": [
           {
            "colorbar": {
             "outlinewidth": 0,
             "ticks": ""
            },
            "colorscale": [
             [
              0,
              "#0d0887"
             ],
             [
              0.1111111111111111,
              "#46039f"
             ],
             [
              0.2222222222222222,
              "#7201a8"
             ],
             [
              0.3333333333333333,
              "#9c179e"
             ],
             [
              0.4444444444444444,
              "#bd3786"
             ],
             [
              0.5555555555555556,
              "#d8576b"
             ],
             [
              0.6666666666666666,
              "#ed7953"
             ],
             [
              0.7777777777777778,
              "#fb9f3a"
             ],
             [
              0.8888888888888888,
              "#fdca26"
             ],
             [
              1,
              "#f0f921"
             ]
            ],
            "type": "surface"
           }
          ],
          "table": [
           {
            "cells": {
             "fill": {
              "color": "#EBF0F8"
             },
             "line": {
              "color": "white"
             }
            },
            "header": {
             "fill": {
              "color": "#C8D4E3"
             },
             "line": {
              "color": "white"
             }
            },
            "type": "table"
           }
          ]
         },
         "layout": {
          "annotationdefaults": {
           "arrowcolor": "#2a3f5f",
           "arrowhead": 0,
           "arrowwidth": 1
          },
          "autotypenumbers": "strict",
          "coloraxis": {
           "colorbar": {
            "outlinewidth": 0,
            "ticks": ""
           }
          },
          "colorscale": {
           "diverging": [
            [
             0,
             "#8e0152"
            ],
            [
             0.1,
             "#c51b7d"
            ],
            [
             0.2,
             "#de77ae"
            ],
            [
             0.3,
             "#f1b6da"
            ],
            [
             0.4,
             "#fde0ef"
            ],
            [
             0.5,
             "#f7f7f7"
            ],
            [
             0.6,
             "#e6f5d0"
            ],
            [
             0.7,
             "#b8e186"
            ],
            [
             0.8,
             "#7fbc41"
            ],
            [
             0.9,
             "#4d9221"
            ],
            [
             1,
             "#276419"
            ]
           ],
           "sequential": [
            [
             0,
             "#0d0887"
            ],
            [
             0.1111111111111111,
             "#46039f"
            ],
            [
             0.2222222222222222,
             "#7201a8"
            ],
            [
             0.3333333333333333,
             "#9c179e"
            ],
            [
             0.4444444444444444,
             "#bd3786"
            ],
            [
             0.5555555555555556,
             "#d8576b"
            ],
            [
             0.6666666666666666,
             "#ed7953"
            ],
            [
             0.7777777777777778,
             "#fb9f3a"
            ],
            [
             0.8888888888888888,
             "#fdca26"
            ],
            [
             1,
             "#f0f921"
            ]
           ],
           "sequentialminus": [
            [
             0,
             "#0d0887"
            ],
            [
             0.1111111111111111,
             "#46039f"
            ],
            [
             0.2222222222222222,
             "#7201a8"
            ],
            [
             0.3333333333333333,
             "#9c179e"
            ],
            [
             0.4444444444444444,
             "#bd3786"
            ],
            [
             0.5555555555555556,
             "#d8576b"
            ],
            [
             0.6666666666666666,
             "#ed7953"
            ],
            [
             0.7777777777777778,
             "#fb9f3a"
            ],
            [
             0.8888888888888888,
             "#fdca26"
            ],
            [
             1,
             "#f0f921"
            ]
           ]
          },
          "colorway": [
           "#636efa",
           "#EF553B",
           "#00cc96",
           "#ab63fa",
           "#FFA15A",
           "#19d3f3",
           "#FF6692",
           "#B6E880",
           "#FF97FF",
           "#FECB52"
          ],
          "font": {
           "color": "#2a3f5f"
          },
          "geo": {
           "bgcolor": "white",
           "lakecolor": "white",
           "landcolor": "white",
           "showlakes": true,
           "showland": true,
           "subunitcolor": "#C8D4E3"
          },
          "hoverlabel": {
           "align": "left"
          },
          "hovermode": "closest",
          "mapbox": {
           "style": "light"
          },
          "paper_bgcolor": "white",
          "plot_bgcolor": "white",
          "polar": {
           "angularaxis": {
            "gridcolor": "#EBF0F8",
            "linecolor": "#EBF0F8",
            "ticks": ""
           },
           "bgcolor": "white",
           "radialaxis": {
            "gridcolor": "#EBF0F8",
            "linecolor": "#EBF0F8",
            "ticks": ""
           }
          },
          "scene": {
           "xaxis": {
            "backgroundcolor": "white",
            "gridcolor": "#DFE8F3",
            "gridwidth": 2,
            "linecolor": "#EBF0F8",
            "showbackground": true,
            "ticks": "",
            "zerolinecolor": "#EBF0F8"
           },
           "yaxis": {
            "backgroundcolor": "white",
            "gridcolor": "#DFE8F3",
            "gridwidth": 2,
            "linecolor": "#EBF0F8",
            "showbackground": true,
            "ticks": "",
            "zerolinecolor": "#EBF0F8"
           },
           "zaxis": {
            "backgroundcolor": "white",
            "gridcolor": "#DFE8F3",
            "gridwidth": 2,
            "linecolor": "#EBF0F8",
            "showbackground": true,
            "ticks": "",
            "zerolinecolor": "#EBF0F8"
           }
          },
          "shapedefaults": {
           "line": {
            "color": "#2a3f5f"
           }
          },
          "ternary": {
           "aaxis": {
            "gridcolor": "#DFE8F3",
            "linecolor": "#A2B1C6",
            "ticks": ""
           },
           "baxis": {
            "gridcolor": "#DFE8F3",
            "linecolor": "#A2B1C6",
            "ticks": ""
           },
           "bgcolor": "white",
           "caxis": {
            "gridcolor": "#DFE8F3",
            "linecolor": "#A2B1C6",
            "ticks": ""
           }
          },
          "title": {
           "x": 0.05
          },
          "xaxis": {
           "automargin": true,
           "gridcolor": "#EBF0F8",
           "linecolor": "#EBF0F8",
           "ticks": "",
           "title": {
            "standoff": 15
           },
           "zerolinecolor": "#EBF0F8",
           "zerolinewidth": 2
          },
          "yaxis": {
           "automargin": true,
           "gridcolor": "#EBF0F8",
           "linecolor": "#EBF0F8",
           "ticks": "",
           "title": {
            "standoff": 15
           },
           "zerolinecolor": "#EBF0F8",
           "zerolinewidth": 2
          }
         }
        },
        "title": {
         "text": "Distribution of Top 100 Ratings Across Attractions and Regions"
        },
        "xaxis": {
         "anchor": "y",
         "categoryarray": [
          "South East Asia",
          "South America",
          "Oceania",
          "North Africa",
          "Australia",
          "West Africa",
          "Central Europe",
          "South Asia",
          "Central America",
          "Middle East",
          "Northern America"
         ],
         "categoryorder": "array",
         "domain": [
          0,
          1
         ],
         "title": {
          "text": "Region"
         }
        },
        "yaxis": {
         "anchor": "x",
         "domain": [
          0,
          1
         ],
         "title": {
          "text": "Average Rating"
         }
        }
       }
      }
     },
     "metadata": {},
     "output_type": "display_data"
    }
   ],
   "source": [
    "import plotly.express as px\n",
    "\n",
    "fig = px.scatter(\n",
    "    Top10_Distribution_Ratings,\n",
    "    x='Region',\n",
    "    y='Average rating per user',\n",
    "    size='Total_Reviews',\n",
    "    color='Region',\n",
    "    hover_name='Attraction',\n",
    "    title=\"Distribution of Top 100 Ratings Across Attractions and Regions\"\n",
    ")\n",
    "\n",
    "fig.update_layout(\n",
    "    xaxis_title=\"Region\",\n",
    "    yaxis_title=\"Average Rating\",\n",
    "    legend_title=\"Region\",\n",
    "    template=\"plotly_white\"\n",
    ")\n",
    "\n",
    "fig.show()"
   ]
  }
 ],
 "metadata": {
  "kernelspec": {
   "display_name": ".venv",
   "language": "python",
   "name": "python3"
  },
  "language_info": {
   "codemirror_mode": {
    "name": "ipython",
    "version": 3
   },
   "file_extension": ".py",
   "mimetype": "text/x-python",
   "name": "python",
   "nbconvert_exporter": "python",
   "pygments_lexer": "ipython3",
   "version": "3.12.1"
  }
 },
 "nbformat": 4,
 "nbformat_minor": 5
}
